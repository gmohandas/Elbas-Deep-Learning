{
 "cells": [
  {
   "cell_type": "code",
   "execution_count": 1,
   "metadata": {},
   "outputs": [
    {
     "name": "stdout",
     "output_type": "stream",
     "text": [
      "0.22.0\n",
      "1.12.1\n"
     ]
    }
   ],
   "source": [
    "import pandas as pd\n",
    "print(pd.__version__)\n",
    "\n",
    "import numpy as np\n",
    "print(np.__version__)\n",
    "\n",
    "import matplotlib.pyplot as plt\n",
    "import seaborn as sns\n",
    "\n",
    "import pickle\n",
    "import os"
   ]
  },
  {
   "cell_type": "markdown",
   "metadata": {},
   "source": [
    "Pretty plotting."
   ]
  },
  {
   "cell_type": "code",
   "execution_count": 2,
   "metadata": {},
   "outputs": [],
   "source": [
    "# Use seaborn graphical settings, which are much prettier\n",
    "sns.set()\n",
    "# Scale widths, fonts, etc. to fit well in a paper (an alternative would be \"notebook\")\n",
    "sns.set_context('notebook')\n",
    "sns.set_style('whitegrid')"
   ]
  },
  {
   "cell_type": "markdown",
   "metadata": {},
   "source": [
    "Load prices and market data."
   ]
  },
  {
   "cell_type": "code",
   "execution_count": 3,
   "metadata": {},
   "outputs": [
    {
     "name": "stdout",
     "output_type": "stream",
     "text": [
      "(53400,)\n"
     ]
    },
    {
     "data": {
      "text/plain": [
       "DeliveryTime\n",
       "2011-11-02 01:00:00    35.975\n",
       "2011-11-02 02:00:00    34.448\n",
       "2011-11-02 03:00:00    35.313\n",
       "2011-11-02 04:00:00    34.390\n",
       "2011-11-02 05:00:00    37.055\n",
       "Name: Win_VWP_Near, dtype: float64"
      ]
     },
     "execution_count": 3,
     "metadata": {},
     "output_type": "execute_result"
    }
   ],
   "source": [
    "data_dir = '/Users/johannes/OneDrive/Master Thesis - ML/03 - Programming/R/Data_Preparation/data_wide'\n",
    "fpath = os.path.join(data_dir, 'merged_wide.csv')\n",
    "\n",
    "df_prices = pd.read_csv(fpath, sep = \",\", header = 0, index_col = 0, \n",
    "                        parse_dates = True, infer_datetime_format = True)\n",
    "\n",
    "# Limit to price only: makes it a series\n",
    "df_prices = df_prices['Win_VWP_Near']\n",
    "\n",
    "print(df_prices.shape)\n",
    "df_prices.iloc[0:5]"
   ]
  },
  {
   "cell_type": "markdown",
   "metadata": {},
   "source": [
    "Load prepared GRIB files."
   ]
  },
  {
   "cell_type": "code",
   "execution_count": 4,
   "metadata": {},
   "outputs": [],
   "source": [
    "grib_2011 = pickle.load(open('3_df/2011', 'rb'))\n",
    "grib_2012 = pickle.load(open('3_df/2012', 'rb'))\n",
    "grib_2013 = pickle.load(open('3_df/2013', 'rb'))\n",
    "grib_2014 = pickle.load(open('3_df/2014', 'rb'))\n",
    "grib_2015 = pickle.load(open('3_df/2015', 'rb'))\n",
    "grib_2016 = pickle.load(open('3_df/2016', 'rb'))\n",
    "grib_2017 = pickle.load(open('3_df/2017', 'rb'))"
   ]
  },
  {
   "cell_type": "code",
   "execution_count": 7,
   "metadata": {},
   "outputs": [
    {
     "name": "stdout",
     "output_type": "stream",
     "text": [
      "(54049, 15125)\n"
     ]
    }
   ],
   "source": [
    "# Concatenate (verify_integrity to ensure there are no duplicate indices)\n",
    "df_grib = pd.concat([grib_2011, grib_2012, grib_2013, grib_2014, grib_2015, grib_2016, grib_2017], verify_integrity = True)\n",
    "print(df_grib.shape)"
   ]
  },
  {
   "cell_type": "code",
   "execution_count": 10,
   "metadata": {},
   "outputs": [
    {
     "name": "stdout",
     "output_type": "stream",
     "text": [
      "(54049, 3)\n"
     ]
    }
   ],
   "source": [
    "# Read in complete timeline\n",
    "tl = pd.read_csv('timeline_files.csv', index_col = 'DeliveryTime', parse_dates = True)\n",
    "print(tl.shape)"
   ]
  },
  {
   "cell_type": "code",
   "execution_count": 11,
   "metadata": {},
   "outputs": [
    {
     "name": "stdout",
     "output_type": "stream",
     "text": [
      "DeliveryTimes missing forecast:  0\n"
     ]
    }
   ],
   "source": [
    "# Reindex to make sure there are no gaps; also sorts the resulting DataFrame correctly\n",
    "df_grib = df_grib.reindex(tl.index)\n",
    "print('DeliveryTimes missing forecast: ', str(df_grib.shape[0] - df_grib.dropna().shape[0]))"
   ]
  },
  {
   "cell_type": "markdown",
   "metadata": {},
   "source": [
    "Load prepared GRIB weather forecasts where forecast bands were consistently structured."
   ]
  },
  {
   "cell_type": "code",
   "execution_count": 13,
   "metadata": {},
   "outputs": [
    {
     "data": {
      "text/html": [
       "<div>\n",
       "<style scoped>\n",
       "    .dataframe tbody tr th:only-of-type {\n",
       "        vertical-align: middle;\n",
       "    }\n",
       "\n",
       "    .dataframe tbody tr th {\n",
       "        vertical-align: top;\n",
       "    }\n",
       "\n",
       "    .dataframe thead th {\n",
       "        text-align: right;\n",
       "    }\n",
       "</style>\n",
       "<table border=\"1\" class=\"dataframe\">\n",
       "  <thead>\n",
       "    <tr style=\"text-align: right;\">\n",
       "      <th></th>\n",
       "      <th>0</th>\n",
       "      <th>1</th>\n",
       "      <th>2</th>\n",
       "      <th>3</th>\n",
       "      <th>4</th>\n",
       "    </tr>\n",
       "    <tr>\n",
       "      <th>DeliveryTime</th>\n",
       "      <th></th>\n",
       "      <th></th>\n",
       "      <th></th>\n",
       "      <th></th>\n",
       "      <th></th>\n",
       "    </tr>\n",
       "  </thead>\n",
       "  <tbody>\n",
       "    <tr>\n",
       "      <th>2011-11-02 00:00:00</th>\n",
       "      <td>275.711533</td>\n",
       "      <td>0.005912</td>\n",
       "      <td>-16.899307</td>\n",
       "      <td>-3.352432</td>\n",
       "      <td>3.865600e+04</td>\n",
       "    </tr>\n",
       "    <tr>\n",
       "      <th>2011-11-02 01:00:00</th>\n",
       "      <td>275.658524</td>\n",
       "      <td>0.007380</td>\n",
       "      <td>-16.889725</td>\n",
       "      <td>-3.819941</td>\n",
       "      <td>3.865600e+04</td>\n",
       "    </tr>\n",
       "    <tr>\n",
       "      <th>2011-11-02 02:00:00</th>\n",
       "      <td>275.605515</td>\n",
       "      <td>0.008848</td>\n",
       "      <td>-16.880142</td>\n",
       "      <td>-4.287450</td>\n",
       "      <td>3.865600e+04</td>\n",
       "    </tr>\n",
       "    <tr>\n",
       "      <th>2011-11-02 03:00:00</th>\n",
       "      <td>275.552505</td>\n",
       "      <td>0.010316</td>\n",
       "      <td>-16.870560</td>\n",
       "      <td>-4.754959</td>\n",
       "      <td>3.865600e+04</td>\n",
       "    </tr>\n",
       "    <tr>\n",
       "      <th>2011-11-02 04:00:00</th>\n",
       "      <td>275.593343</td>\n",
       "      <td>0.011428</td>\n",
       "      <td>-17.001556</td>\n",
       "      <td>-4.543218</td>\n",
       "      <td>3.865600e+04</td>\n",
       "    </tr>\n",
       "    <tr>\n",
       "      <th>2011-11-02 05:00:00</th>\n",
       "      <td>275.634181</td>\n",
       "      <td>0.012540</td>\n",
       "      <td>-17.132553</td>\n",
       "      <td>-4.331477</td>\n",
       "      <td>3.865600e+04</td>\n",
       "    </tr>\n",
       "    <tr>\n",
       "      <th>2011-11-02 06:00:00</th>\n",
       "      <td>275.675018</td>\n",
       "      <td>0.013651</td>\n",
       "      <td>-17.263550</td>\n",
       "      <td>-4.119736</td>\n",
       "      <td>3.865600e+04</td>\n",
       "    </tr>\n",
       "    <tr>\n",
       "      <th>2011-11-02 07:00:00</th>\n",
       "      <td>275.418304</td>\n",
       "      <td>0.007425</td>\n",
       "      <td>-16.261185</td>\n",
       "      <td>-4.474665</td>\n",
       "      <td>2.519999e-11</td>\n",
       "    </tr>\n",
       "    <tr>\n",
       "      <th>2011-11-02 08:00:00</th>\n",
       "      <td>275.501984</td>\n",
       "      <td>0.007746</td>\n",
       "      <td>-15.988235</td>\n",
       "      <td>-4.263036</td>\n",
       "      <td>2.879999e-11</td>\n",
       "    </tr>\n",
       "    <tr>\n",
       "      <th>2011-11-02 09:00:00</th>\n",
       "      <td>275.585663</td>\n",
       "      <td>0.008066</td>\n",
       "      <td>-15.715286</td>\n",
       "      <td>-4.051407</td>\n",
       "      <td>3.239999e-11</td>\n",
       "    </tr>\n",
       "  </tbody>\n",
       "</table>\n",
       "</div>"
      ],
      "text/plain": [
       "                              0         1          2         3             4\n",
       "DeliveryTime                                                                \n",
       "2011-11-02 00:00:00  275.711533  0.005912 -16.899307 -3.352432  3.865600e+04\n",
       "2011-11-02 01:00:00  275.658524  0.007380 -16.889725 -3.819941  3.865600e+04\n",
       "2011-11-02 02:00:00  275.605515  0.008848 -16.880142 -4.287450  3.865600e+04\n",
       "2011-11-02 03:00:00  275.552505  0.010316 -16.870560 -4.754959  3.865600e+04\n",
       "2011-11-02 04:00:00  275.593343  0.011428 -17.001556 -4.543218  3.865600e+04\n",
       "2011-11-02 05:00:00  275.634181  0.012540 -17.132553 -4.331477  3.865600e+04\n",
       "2011-11-02 06:00:00  275.675018  0.013651 -17.263550 -4.119736  3.865600e+04\n",
       "2011-11-02 07:00:00  275.418304  0.007425 -16.261185 -4.474665  2.519999e-11\n",
       "2011-11-02 08:00:00  275.501984  0.007746 -15.988235 -4.263036  2.879999e-11\n",
       "2011-11-02 09:00:00  275.585663  0.008066 -15.715286 -4.051407  3.239999e-11"
      ]
     },
     "execution_count": 13,
     "metadata": {},
     "output_type": "execute_result"
    }
   ],
   "source": [
    "df_grib.iloc[0:10, 0:5]"
   ]
  },
  {
   "cell_type": "markdown",
   "metadata": {},
   "source": [
    "Join the two together to map volume-weighted prices to weather forecasts for the corresponding DeliveryHour."
   ]
  },
  {
   "cell_type": "code",
   "execution_count": 14,
   "metadata": {},
   "outputs": [],
   "source": [
    "# Right-join to keep all prices so we can identify gaps (shouldn't be any since we re-indexed, but just to be safe)\n",
    "df_grib = df_grib.join(df_prices, how = 'right')\n",
    "del df_prices"
   ]
  },
  {
   "cell_type": "code",
   "execution_count": 15,
   "metadata": {
    "scrolled": true
   },
   "outputs": [
    {
     "name": "stdout",
     "output_type": "stream",
     "text": [
      "(53400, 15126)\n"
     ]
    },
    {
     "data": {
      "text/html": [
       "<div>\n",
       "<style scoped>\n",
       "    .dataframe tbody tr th:only-of-type {\n",
       "        vertical-align: middle;\n",
       "    }\n",
       "\n",
       "    .dataframe tbody tr th {\n",
       "        vertical-align: top;\n",
       "    }\n",
       "\n",
       "    .dataframe thead th {\n",
       "        text-align: right;\n",
       "    }\n",
       "</style>\n",
       "<table border=\"1\" class=\"dataframe\">\n",
       "  <thead>\n",
       "    <tr style=\"text-align: right;\">\n",
       "      <th></th>\n",
       "      <th>0</th>\n",
       "      <th>1</th>\n",
       "      <th>2</th>\n",
       "      <th>3</th>\n",
       "      <th>4</th>\n",
       "      <th>5</th>\n",
       "      <th>6</th>\n",
       "      <th>7</th>\n",
       "      <th>8</th>\n",
       "      <th>9</th>\n",
       "      <th>...</th>\n",
       "      <th>15116</th>\n",
       "      <th>15117</th>\n",
       "      <th>15118</th>\n",
       "      <th>15119</th>\n",
       "      <th>15120</th>\n",
       "      <th>15121</th>\n",
       "      <th>15122</th>\n",
       "      <th>15123</th>\n",
       "      <th>15124</th>\n",
       "      <th>Win_VWP_Near</th>\n",
       "    </tr>\n",
       "    <tr>\n",
       "      <th>DeliveryTime</th>\n",
       "      <th></th>\n",
       "      <th></th>\n",
       "      <th></th>\n",
       "      <th></th>\n",
       "      <th></th>\n",
       "      <th></th>\n",
       "      <th></th>\n",
       "      <th></th>\n",
       "      <th></th>\n",
       "      <th></th>\n",
       "      <th></th>\n",
       "      <th></th>\n",
       "      <th></th>\n",
       "      <th></th>\n",
       "      <th></th>\n",
       "      <th></th>\n",
       "      <th></th>\n",
       "      <th></th>\n",
       "      <th></th>\n",
       "      <th></th>\n",
       "      <th></th>\n",
       "    </tr>\n",
       "  </thead>\n",
       "  <tbody>\n",
       "    <tr>\n",
       "      <th>2011-11-02 01:00:00</th>\n",
       "      <td>275.658524</td>\n",
       "      <td>0.007380</td>\n",
       "      <td>-16.889725</td>\n",
       "      <td>-3.819941</td>\n",
       "      <td>38656.0</td>\n",
       "      <td>275.776606</td>\n",
       "      <td>0.007265</td>\n",
       "      <td>-17.025223</td>\n",
       "      <td>-3.580439</td>\n",
       "      <td>39808.0</td>\n",
       "      <td>...</td>\n",
       "      <td>0.000009</td>\n",
       "      <td>-0.307287</td>\n",
       "      <td>-0.148473</td>\n",
       "      <td>1249216.0</td>\n",
       "      <td>283.926183</td>\n",
       "      <td>0.000008</td>\n",
       "      <td>-0.504634</td>\n",
       "      <td>-0.582311</td>\n",
       "      <td>1.036992e+06</td>\n",
       "      <td>35.975</td>\n",
       "    </tr>\n",
       "    <tr>\n",
       "      <th>2011-11-02 02:00:00</th>\n",
       "      <td>275.605515</td>\n",
       "      <td>0.008848</td>\n",
       "      <td>-16.880142</td>\n",
       "      <td>-4.287450</td>\n",
       "      <td>38656.0</td>\n",
       "      <td>275.709600</td>\n",
       "      <td>0.008728</td>\n",
       "      <td>-16.969498</td>\n",
       "      <td>-4.026220</td>\n",
       "      <td>39808.0</td>\n",
       "      <td>...</td>\n",
       "      <td>0.000019</td>\n",
       "      <td>-0.153987</td>\n",
       "      <td>-1.144465</td>\n",
       "      <td>1249216.0</td>\n",
       "      <td>284.173793</td>\n",
       "      <td>0.000016</td>\n",
       "      <td>-0.243505</td>\n",
       "      <td>-1.461116</td>\n",
       "      <td>1.036992e+06</td>\n",
       "      <td>34.448</td>\n",
       "    </tr>\n",
       "    <tr>\n",
       "      <th>2011-11-02 03:00:00</th>\n",
       "      <td>275.552505</td>\n",
       "      <td>0.010316</td>\n",
       "      <td>-16.870560</td>\n",
       "      <td>-4.754959</td>\n",
       "      <td>38656.0</td>\n",
       "      <td>275.642593</td>\n",
       "      <td>0.010190</td>\n",
       "      <td>-16.913773</td>\n",
       "      <td>-4.472000</td>\n",
       "      <td>39808.0</td>\n",
       "      <td>...</td>\n",
       "      <td>0.000028</td>\n",
       "      <td>-0.000687</td>\n",
       "      <td>-2.140457</td>\n",
       "      <td>1249216.0</td>\n",
       "      <td>284.421402</td>\n",
       "      <td>0.000024</td>\n",
       "      <td>0.017624</td>\n",
       "      <td>-2.339920</td>\n",
       "      <td>1.036992e+06</td>\n",
       "      <td>35.313</td>\n",
       "    </tr>\n",
       "    <tr>\n",
       "      <th>2011-11-02 04:00:00</th>\n",
       "      <td>275.593343</td>\n",
       "      <td>0.011428</td>\n",
       "      <td>-17.001556</td>\n",
       "      <td>-4.543218</td>\n",
       "      <td>38656.0</td>\n",
       "      <td>275.672363</td>\n",
       "      <td>0.011374</td>\n",
       "      <td>-17.021983</td>\n",
       "      <td>-4.312831</td>\n",
       "      <td>39808.0</td>\n",
       "      <td>...</td>\n",
       "      <td>0.000089</td>\n",
       "      <td>-0.611176</td>\n",
       "      <td>-2.843836</td>\n",
       "      <td>1293952.0</td>\n",
       "      <td>284.611247</td>\n",
       "      <td>0.000106</td>\n",
       "      <td>-0.708018</td>\n",
       "      <td>-2.957850</td>\n",
       "      <td>1.096043e+06</td>\n",
       "      <td>34.390</td>\n",
       "    </tr>\n",
       "    <tr>\n",
       "      <th>2011-11-02 05:00:00</th>\n",
       "      <td>275.634181</td>\n",
       "      <td>0.012540</td>\n",
       "      <td>-17.132553</td>\n",
       "      <td>-4.331477</td>\n",
       "      <td>38656.0</td>\n",
       "      <td>275.702133</td>\n",
       "      <td>0.012557</td>\n",
       "      <td>-17.130193</td>\n",
       "      <td>-4.153661</td>\n",
       "      <td>39808.0</td>\n",
       "      <td>...</td>\n",
       "      <td>0.000149</td>\n",
       "      <td>-1.221664</td>\n",
       "      <td>-3.547216</td>\n",
       "      <td>1338688.0</td>\n",
       "      <td>284.801092</td>\n",
       "      <td>0.000188</td>\n",
       "      <td>-1.433660</td>\n",
       "      <td>-3.575780</td>\n",
       "      <td>1.155093e+06</td>\n",
       "      <td>37.055</td>\n",
       "    </tr>\n",
       "  </tbody>\n",
       "</table>\n",
       "<p>5 rows × 15126 columns</p>\n",
       "</div>"
      ],
      "text/plain": [
       "                              0         1          2         3        4  \\\n",
       "DeliveryTime                                                              \n",
       "2011-11-02 01:00:00  275.658524  0.007380 -16.889725 -3.819941  38656.0   \n",
       "2011-11-02 02:00:00  275.605515  0.008848 -16.880142 -4.287450  38656.0   \n",
       "2011-11-02 03:00:00  275.552505  0.010316 -16.870560 -4.754959  38656.0   \n",
       "2011-11-02 04:00:00  275.593343  0.011428 -17.001556 -4.543218  38656.0   \n",
       "2011-11-02 05:00:00  275.634181  0.012540 -17.132553 -4.331477  38656.0   \n",
       "\n",
       "                              5         6          7         8        9  \\\n",
       "DeliveryTime                                                              \n",
       "2011-11-02 01:00:00  275.776606  0.007265 -17.025223 -3.580439  39808.0   \n",
       "2011-11-02 02:00:00  275.709600  0.008728 -16.969498 -4.026220  39808.0   \n",
       "2011-11-02 03:00:00  275.642593  0.010190 -16.913773 -4.472000  39808.0   \n",
       "2011-11-02 04:00:00  275.672363  0.011374 -17.021983 -4.312831  39808.0   \n",
       "2011-11-02 05:00:00  275.702133  0.012557 -17.130193 -4.153661  39808.0   \n",
       "\n",
       "                         ...          15116     15117     15118      15119  \\\n",
       "DeliveryTime             ...                                                 \n",
       "2011-11-02 01:00:00      ...       0.000009 -0.307287 -0.148473  1249216.0   \n",
       "2011-11-02 02:00:00      ...       0.000019 -0.153987 -1.144465  1249216.0   \n",
       "2011-11-02 03:00:00      ...       0.000028 -0.000687 -2.140457  1249216.0   \n",
       "2011-11-02 04:00:00      ...       0.000089 -0.611176 -2.843836  1293952.0   \n",
       "2011-11-02 05:00:00      ...       0.000149 -1.221664 -3.547216  1338688.0   \n",
       "\n",
       "                          15120     15121     15122     15123         15124  \\\n",
       "DeliveryTime                                                                  \n",
       "2011-11-02 01:00:00  283.926183  0.000008 -0.504634 -0.582311  1.036992e+06   \n",
       "2011-11-02 02:00:00  284.173793  0.000016 -0.243505 -1.461116  1.036992e+06   \n",
       "2011-11-02 03:00:00  284.421402  0.000024  0.017624 -2.339920  1.036992e+06   \n",
       "2011-11-02 04:00:00  284.611247  0.000106 -0.708018 -2.957850  1.096043e+06   \n",
       "2011-11-02 05:00:00  284.801092  0.000188 -1.433660 -3.575780  1.155093e+06   \n",
       "\n",
       "                     Win_VWP_Near  \n",
       "DeliveryTime                       \n",
       "2011-11-02 01:00:00        35.975  \n",
       "2011-11-02 02:00:00        34.448  \n",
       "2011-11-02 03:00:00        35.313  \n",
       "2011-11-02 04:00:00        34.390  \n",
       "2011-11-02 05:00:00        37.055  \n",
       "\n",
       "[5 rows x 15126 columns]"
      ]
     },
     "execution_count": 15,
     "metadata": {},
     "output_type": "execute_result"
    }
   ],
   "source": [
    "print(df_grib.shape)\n",
    "df_grib.head(5)"
   ]
  },
  {
   "cell_type": "code",
   "execution_count": 18,
   "metadata": {},
   "outputs": [
    {
     "name": "stdout",
     "output_type": "stream",
     "text": [
      "0\n"
     ]
    }
   ],
   "source": [
    "# NaNs in complete timeline\n",
    "print(df_grib.isnull().sum().sum())"
   ]
  },
  {
   "cell_type": "code",
   "execution_count": 19,
   "metadata": {},
   "outputs": [
    {
     "name": "stdout",
     "output_type": "stream",
     "text": [
      "8760\n"
     ]
    }
   ],
   "source": [
    "train_size = 35880\n",
    "valid_size = 8760\n",
    "test_size = df_grib.shape[0] - train_size - valid_size\n",
    "print(test_size)"
   ]
  },
  {
   "cell_type": "markdown",
   "metadata": {},
   "source": [
    "Now that the timeslines have been joined and gaps handled (i.e. we found none), split into input and output Numpy arrays."
   ]
  },
  {
   "cell_type": "code",
   "execution_count": 20,
   "metadata": {},
   "outputs": [
    {
     "name": "stdout",
     "output_type": "stream",
     "text": [
      "(53400,)\n",
      "(53400, 15125)\n",
      "(53400, 55, 55, 5)\n"
     ]
    }
   ],
   "source": [
    "prices = np.array(df_grib.iloc[:, -1])\n",
    "print(prices.shape)\n",
    "gribs = np.array(df_grib.iloc[:, :-1])\n",
    "print(gribs.shape)\n",
    "gribs = np.reshape(gribs, (-1, 55, 55, 5))\n",
    "print(gribs.shape)"
   ]
  },
  {
   "cell_type": "markdown",
   "metadata": {},
   "source": [
    "Standardize the price data as usual.  \n",
    "Min/Max-scale the forecast data per band.  \n",
    "*As before, calculate the mean and standard deviations, minimums and maximums on the training set, then scale the whole set using those.*"
   ]
  },
  {
   "cell_type": "code",
   "execution_count": 21,
   "metadata": {
    "scrolled": true
   },
   "outputs": [
    {
     "name": "stdout",
     "output_type": "stream",
     "text": [
      "32.8342900502\n",
      "13.071125727\n",
      "(53400,)\n"
     ]
    }
   ],
   "source": [
    "p_mean = np.mean(prices[:train_size])\n",
    "p_std = np.std(prices[:train_size])\n",
    "print(p_mean)\n",
    "print(p_std)\n",
    "\n",
    "prices_stdzd = (prices - p_mean)/p_std\n",
    "print(prices_stdzd.shape)"
   ]
  },
  {
   "cell_type": "code",
   "execution_count": 22,
   "metadata": {},
   "outputs": [
    {
     "name": "stdout",
     "output_type": "stream",
     "text": [
      "[[[[  3.12413818e+02   1.02561951e-01   2.85811615e+01   2.88189087e+01\n",
      "      2.79178260e+07]]]]\n",
      "[[[[  2.36112467e+02   0.00000000e+00  -2.28485718e+01  -2.93605652e+01\n",
      "      2.51999856e-11]]]]\n",
      "(53400, 55, 55, 5)\n"
     ]
    }
   ],
   "source": [
    "#g_max = np.max(gribs, axis = (0, 1, 2), keepdims = True)\n",
    "g_max = np.max(gribs[:train_size], axis = (0, 1, 2), keepdims = True)\n",
    "print(g_max)\n",
    "#g_min = np.min(gribs, axis = (0, 1, 2), keepdims = True)\n",
    "g_min = np.min(gribs[:train_size], axis = (0, 1, 2), keepdims = True)\n",
    "print(g_min)\n",
    "\n",
    "gribs_scaled = (gribs - g_min)/(g_max - g_min)\n",
    "print(gribs_scaled.shape)\n",
    "\n",
    "# Clear memory (hopefully)\n",
    "del gribs"
   ]
  },
  {
   "cell_type": "code",
   "execution_count": 23,
   "metadata": {
    "scrolled": true
   },
   "outputs": [
    {
     "name": "stdout",
     "output_type": "stream",
     "text": [
      "[[[[ 1.02089077  1.17114855  1.          1.          1.        ]]]]\n",
      "[[[[-0.01502627  0.          0.          0.          0.        ]]]]\n"
     ]
    }
   ],
   "source": [
    "# There are apparently some values outside this range in the validation and/or test sets\n",
    "print(np.max(gribs_scaled, axis = (0, 1, 2), keepdims = True))\n",
    "print(np.min(gribs_scaled, axis = (0, 1, 2), keepdims = True))"
   ]
  },
  {
   "cell_type": "code",
   "execution_count": 24,
   "metadata": {},
   "outputs": [],
   "source": [
    "# Save the prepared datasets\n",
    "pickle.dump(prices_stdzd[:train_size], open('grib_data/y_standardized_train', 'wb'), protocol = 4)\n",
    "pickle.dump(prices_stdzd[train_size:-test_size], open('grib_data/y_standardized_valid', 'wb'), protocol = 4)\n",
    "pickle.dump(prices_stdzd[-test_size:], open('grib_data/y_standardized_test', 'wb'), protocol = 4)\n",
    "\n",
    "pickle.dump(gribs_scaled[:train_size], open('grib_data/x_scaled_train', 'wb'), protocol = 4)\n",
    "pickle.dump(gribs_scaled[train_size:-test_size], open('grib_data/x_scaled_valid', 'wb'), protocol = 4)\n",
    "pickle.dump(gribs_scaled[-test_size:], open('grib_data/x_scaled_test', 'wb'), protocol = 4)"
   ]
  },
  {
   "cell_type": "code",
   "execution_count": 39,
   "metadata": {},
   "outputs": [
    {
     "data": {
      "image/png": "[encoded data removed]",
      "text/plain": [
       "<matplotlib.figure.Figure at 0x2241020b860>"
      ]
     },
     "metadata": {},
     "output_type": "display_data"
    }
   ],
   "source": [
    "n = gribs_scaled[0:1000]\n",
    "p = prices[0:1000]\n",
    "\n",
    "hours = 8\n",
    "i = 1\n",
    "fig, ax = plt.subplots(5, hours)\n",
    "fig.subplots_adjust(hspace=0.01, wspace=0.1)\n",
    "for b in range(5):\n",
    "    for h in range(hours):\n",
    "        ax[b, h].imshow(n[h*30, ..., b], cmap = 'hot')\n",
    "        ax[b, h].axis('off')\n",
    "        if b == 0:\n",
    "            ax[b, h].set_title('€ ' + str(\"{:.2f}\".format(prices[h*30])), fontsize = 10)\n",
    "        i = i + 1\n",
    "fig.savefig('grid_prices.pdf', bbox_inces = 'tight')"
   ]
  },
  {
   "cell_type": "code",
   "execution_count": null,
   "metadata": {},
   "outputs": [],
   "source": []
  }
 ],
 "metadata": {
  "kernelspec": {
   "display_name": "Python 3",
   "language": "python",
   "name": "python3"
  },
  "language_info": {
   "codemirror_mode": {
    "name": "ipython",
    "version": 3
   },
   "file_extension": ".py",
   "mimetype": "text/x-python",
   "name": "python",
   "nbconvert_exporter": "python",
   "pygments_lexer": "ipython3",
   "version": "3.6.4"
  }
 },
 "nbformat": 4,
 "nbformat_minor": 2
}
