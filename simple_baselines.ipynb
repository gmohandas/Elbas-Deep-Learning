{
 "cells": [
  {
   "cell_type": "markdown",
   "metadata": {},
   "source": [
    "Load packages"
   ]
  },
  {
   "cell_type": "code",
   "execution_count": 2,
   "metadata": {},
   "outputs": [
    {
     "name": "stdout",
     "output_type": "stream",
     "text": [
      "2.1.4\n",
      "1.6.0\n",
      "0.22.0\n",
      "1.14.1\n"
     ]
    }
   ],
   "source": [
    "import keras\n",
    "print(keras.__version__)\n",
    "\n",
    "import tensorflow as tf\n",
    "print(tf.__version__)\n",
    "\n",
    "import pandas as pd\n",
    "print(pd.__version__)\n",
    "\n",
    "import numpy as np\n",
    "print(np.__version__)\n",
    "\n",
    "import matplotlib.pyplot as plt\n",
    "import seaborn as sns\n",
    "\n",
    "import pickle"
   ]
  },
  {
   "cell_type": "markdown",
   "metadata": {},
   "source": [
    "Pretty plotting"
   ]
  },
  {
   "cell_type": "code",
   "execution_count": 3,
   "metadata": {},
   "outputs": [],
   "source": [
    "# Use seaborn graphical settings, which are much prettier\n",
    "sns.set()\n",
    "# Scale widths, fonts, etc. to fit well in a paper (an alternative would be \"notebook\")\n",
    "sns.set_context('notebook')\n",
    "sns.set_style('whitegrid')"
   ]
  },
  {
   "cell_type": "markdown",
   "metadata": {},
   "source": [
    "Load data and print some summaries."
   ]
  },
  {
   "cell_type": "code",
   "execution_count": 4,
   "metadata": {},
   "outputs": [
    {
     "name": "stdout",
     "output_type": "stream",
     "text": [
      "float64    185\n",
      "int64       80\n",
      "dtype: int64\n",
      "(53400, 265)\n"
     ]
    },
    {
     "data": {
      "text/html": [
       "<div>\n",
       "<style scoped>\n",
       "    .dataframe tbody tr th:only-of-type {\n",
       "        vertical-align: middle;\n",
       "    }\n",
       "\n",
       "    .dataframe tbody tr th {\n",
       "        vertical-align: top;\n",
       "    }\n",
       "\n",
       "    .dataframe thead th {\n",
       "        text-align: right;\n",
       "    }\n",
       "</style>\n",
       "<table border=\"1\" class=\"dataframe\">\n",
       "  <thead>\n",
       "    <tr style=\"text-align: right;\">\n",
       "      <th></th>\n",
       "      <th>Win_VWP_Near</th>\n",
       "      <th>DeliveryHour</th>\n",
       "      <th>DeliveryMonth</th>\n",
       "      <th>DeliveryWeekday</th>\n",
       "      <th>Reg_DD_DK1</th>\n",
       "      <th>Reg_DD_DK2</th>\n",
       "      <th>Reg_DD_FI</th>\n",
       "      <th>Reg_DD_NO1</th>\n",
       "      <th>Reg_DD_NO2</th>\n",
       "      <th>Reg_DD_NO3</th>\n",
       "      <th>...</th>\n",
       "      <th>miss_Cap_DK1A_SE3</th>\n",
       "      <th>miss_Cap_SE3_DK1A</th>\n",
       "      <th>miss_Cap_DK1A_NO2</th>\n",
       "      <th>miss_Cap_NO2_DK1A</th>\n",
       "      <th>miss_Op_CE_SE1</th>\n",
       "      <th>miss_Op_CE_SE2</th>\n",
       "      <th>miss_Op_CE_SE3</th>\n",
       "      <th>miss_Op_CE_SE4</th>\n",
       "      <th>miss_Win_VWP_Near_Lag</th>\n",
       "      <th>miss_Win_Volume_Near_Lag</th>\n",
       "    </tr>\n",
       "    <tr>\n",
       "      <th>DeliveryTime</th>\n",
       "      <th></th>\n",
       "      <th></th>\n",
       "      <th></th>\n",
       "      <th></th>\n",
       "      <th></th>\n",
       "      <th></th>\n",
       "      <th></th>\n",
       "      <th></th>\n",
       "      <th></th>\n",
       "      <th></th>\n",
       "      <th></th>\n",
       "      <th></th>\n",
       "      <th></th>\n",
       "      <th></th>\n",
       "      <th></th>\n",
       "      <th></th>\n",
       "      <th></th>\n",
       "      <th></th>\n",
       "      <th></th>\n",
       "      <th></th>\n",
       "      <th></th>\n",
       "    </tr>\n",
       "  </thead>\n",
       "  <tbody>\n",
       "    <tr>\n",
       "      <th>2011-11-02 01:00:00</th>\n",
       "      <td>35.975</td>\n",
       "      <td>1</td>\n",
       "      <td>11</td>\n",
       "      <td>4</td>\n",
       "      <td>1</td>\n",
       "      <td>1</td>\n",
       "      <td>-1</td>\n",
       "      <td>0</td>\n",
       "      <td>0</td>\n",
       "      <td>0</td>\n",
       "      <td>...</td>\n",
       "      <td>1</td>\n",
       "      <td>1</td>\n",
       "      <td>0</td>\n",
       "      <td>0</td>\n",
       "      <td>1</td>\n",
       "      <td>1</td>\n",
       "      <td>0</td>\n",
       "      <td>0</td>\n",
       "      <td>0</td>\n",
       "      <td>0</td>\n",
       "    </tr>\n",
       "    <tr>\n",
       "      <th>2011-11-02 02:00:00</th>\n",
       "      <td>34.448</td>\n",
       "      <td>2</td>\n",
       "      <td>11</td>\n",
       "      <td>4</td>\n",
       "      <td>-1</td>\n",
       "      <td>1</td>\n",
       "      <td>-1</td>\n",
       "      <td>-1</td>\n",
       "      <td>-1</td>\n",
       "      <td>-1</td>\n",
       "      <td>...</td>\n",
       "      <td>1</td>\n",
       "      <td>1</td>\n",
       "      <td>0</td>\n",
       "      <td>0</td>\n",
       "      <td>1</td>\n",
       "      <td>1</td>\n",
       "      <td>0</td>\n",
       "      <td>0</td>\n",
       "      <td>0</td>\n",
       "      <td>0</td>\n",
       "    </tr>\n",
       "    <tr>\n",
       "      <th>2011-11-02 03:00:00</th>\n",
       "      <td>35.313</td>\n",
       "      <td>3</td>\n",
       "      <td>11</td>\n",
       "      <td>4</td>\n",
       "      <td>-1</td>\n",
       "      <td>0</td>\n",
       "      <td>-1</td>\n",
       "      <td>-1</td>\n",
       "      <td>-1</td>\n",
       "      <td>-1</td>\n",
       "      <td>...</td>\n",
       "      <td>1</td>\n",
       "      <td>1</td>\n",
       "      <td>0</td>\n",
       "      <td>0</td>\n",
       "      <td>1</td>\n",
       "      <td>1</td>\n",
       "      <td>0</td>\n",
       "      <td>0</td>\n",
       "      <td>0</td>\n",
       "      <td>0</td>\n",
       "    </tr>\n",
       "  </tbody>\n",
       "</table>\n",
       "<p>3 rows × 265 columns</p>\n",
       "</div>"
      ],
      "text/plain": [
       "                     Win_VWP_Near  DeliveryHour  DeliveryMonth  \\\n",
       "DeliveryTime                                                     \n",
       "2011-11-02 01:00:00        35.975             1             11   \n",
       "2011-11-02 02:00:00        34.448             2             11   \n",
       "2011-11-02 03:00:00        35.313             3             11   \n",
       "\n",
       "                     DeliveryWeekday  Reg_DD_DK1  Reg_DD_DK2  Reg_DD_FI  \\\n",
       "DeliveryTime                                                              \n",
       "2011-11-02 01:00:00                4           1           1         -1   \n",
       "2011-11-02 02:00:00                4          -1           1         -1   \n",
       "2011-11-02 03:00:00                4          -1           0         -1   \n",
       "\n",
       "                     Reg_DD_NO1  Reg_DD_NO2  Reg_DD_NO3  \\\n",
       "DeliveryTime                                              \n",
       "2011-11-02 01:00:00           0           0           0   \n",
       "2011-11-02 02:00:00          -1          -1          -1   \n",
       "2011-11-02 03:00:00          -1          -1          -1   \n",
       "\n",
       "                               ...             miss_Cap_DK1A_SE3  \\\n",
       "DeliveryTime                   ...                                 \n",
       "2011-11-02 01:00:00            ...                             1   \n",
       "2011-11-02 02:00:00            ...                             1   \n",
       "2011-11-02 03:00:00            ...                             1   \n",
       "\n",
       "                     miss_Cap_SE3_DK1A  miss_Cap_DK1A_NO2  miss_Cap_NO2_DK1A  \\\n",
       "DeliveryTime                                                                   \n",
       "2011-11-02 01:00:00                  1                  0                  0   \n",
       "2011-11-02 02:00:00                  1                  0                  0   \n",
       "2011-11-02 03:00:00                  1                  0                  0   \n",
       "\n",
       "                     miss_Op_CE_SE1  miss_Op_CE_SE2  miss_Op_CE_SE3  \\\n",
       "DeliveryTime                                                          \n",
       "2011-11-02 01:00:00               1               1               0   \n",
       "2011-11-02 02:00:00               1               1               0   \n",
       "2011-11-02 03:00:00               1               1               0   \n",
       "\n",
       "                     miss_Op_CE_SE4  miss_Win_VWP_Near_Lag  \\\n",
       "DeliveryTime                                                 \n",
       "2011-11-02 01:00:00               0                      0   \n",
       "2011-11-02 02:00:00               0                      0   \n",
       "2011-11-02 03:00:00               0                      0   \n",
       "\n",
       "                     miss_Win_Volume_Near_Lag  \n",
       "DeliveryTime                                   \n",
       "2011-11-02 01:00:00                         0  \n",
       "2011-11-02 02:00:00                         0  \n",
       "2011-11-02 03:00:00                         0  \n",
       "\n",
       "[3 rows x 265 columns]"
      ]
     },
     "execution_count": 4,
     "metadata": {},
     "output_type": "execute_result"
    }
   ],
   "source": [
    "import os\n",
    "data_dir = '/Users/johannes/OneDrive/Master Thesis - ML/03 - Programming/R/Data_Preparation/data_wide'\n",
    "fpath = os.path.join(data_dir, 'merged_wide.csv')\n",
    "\n",
    "df = pd.read_csv(fpath, sep = \",\", header = 0, index_col = 0, \n",
    "                 parse_dates = True, infer_datetime_format = True)\n",
    "\n",
    "headers = list(df)\n",
    "\n",
    "print(df.get_dtype_counts())\n",
    "print(df.shape)\n",
    "\n",
    "# Convert to numpy ndarray\n",
    "dfn = df.as_matrix()\n",
    "\n",
    "df.head(3)"
   ]
  },
  {
   "cell_type": "markdown",
   "metadata": {},
   "source": [
    "One-hot-encode categorical features using pandas, then standardize numerical features (not including the one-hot-encoded indicator variables) so each numerical feature has mean 0 and standard deviation 1."
   ]
  },
  {
   "cell_type": "code",
   "execution_count": 5,
   "metadata": {},
   "outputs": [
    {
     "name": "stdout",
     "output_type": "stream",
     "text": [
      "NaNs imputed with 0's: 34364\n"
     ]
    }
   ],
   "source": [
    "# INSTEAD USING PANDAS DIRECTLY\n",
    "# One-hot-encode categoricals\n",
    "df2 = pd.get_dummies(df, columns = [\"DeliveryHour\", \"DeliveryMonth\", \"DeliveryWeekday\",\n",
    "                                   \"Reg_DD_DK1\", \"Reg_DD_DK2\", \"Reg_DD_FI\", \"Reg_DD_NO1\",\n",
    "                                   \"Reg_DD_NO2\", \"Reg_DD_NO3\", \"Reg_DD_NO4\", \"Reg_DD_NO5\",\n",
    "                                   \"Reg_DD_SE1\", \"Reg_DD_SE2\", \"Reg_DD_SE3\", \"Reg_DD_SE4\"])\n",
    "\n",
    "headers = list(df2)\n",
    "\n",
    "# Define dataset sizes\n",
    "## 1 year = 365*24 = 8,760\n",
    "valid_size = 8760\n",
    "test_size = 8760\n",
    "train_size = df2.shape[0] - valid_size - test_size\n",
    "\n",
    "# Convert pandas DataFrame to Numpy ndarray\n",
    "df2n = df2.as_matrix()\n",
    "\n",
    "# Last column to normalize\n",
    "## All columns to the right are binary missing-flags or one-hot-encoded, so don't standardize\n",
    "ind_last = list(df2).index('UMM_CE_Cnt')\n",
    "\n",
    "means_num = np.nanmean(df2n[:train_size, :ind_last], axis = 0)\n",
    "stdevs_num = np.nanstd(df2n[:train_size, :ind_last], axis = 0)\n",
    "    \n",
    "# Pad mean with 0's and st. dev. with 1's for indicators and one-hots\n",
    "## To avoid standardizing these variables\n",
    "means = np.concatenate([means_num, np.repeat(0, df2n.shape[1] - ind_last)])\n",
    "stdevs = np.concatenate([stdevs_num, np.repeat(1, df2n.shape[1] - ind_last)])\n",
    "\n",
    "# Standardize\n",
    "df2n -= means\n",
    "df2n /= stdevs\n",
    "\n",
    "# Replace NaNs with 0's\n",
    "print(\"NaNs imputed with 0's:\", np.isnan(df2n).sum())\n",
    "df2n = np.nan_to_num(df2n)\n",
    "\n",
    "df2n_train = df2n[:-(valid_size+test_size)]\n",
    "df2n_valid = df2n[-(valid_size+test_size):-test_size]\n",
    "df2n_test = df2n[-test_size:]\n",
    "\n",
    "# Save datasets to files so they can be imported elsewhere\n",
    "np.savetxt('Data/standardized_complete.csv', df2n, delimiter = \",\", header = ','.join(headers), comments = '')\n",
    "np.savetxt('Data/standardized_train.csv', df2n_train, delimiter = \",\", header = ','.join(headers), comments = '')\n",
    "np.savetxt('Data/standardized_valid.csv', df2n_valid, delimiter = \",\", header = ','.join(headers), comments = '')\n",
    "np.savetxt('Data/standardized_test.csv', df2n_test, delimiter = \",\", header = ','.join(headers), comments = '')\n",
    "\n",
    "# Save helper data\n",
    "pickle.dump(means, open('Data/means', 'wb'))\n",
    "pickle.dump(stdevs, open('Data/stdevs', 'wb'))\n",
    "pickle.dump(headers, open('Data/headers', 'wb'))"
   ]
  },
  {
   "cell_type": "code",
   "execution_count": 6,
   "metadata": {},
   "outputs": [
    {
     "data": {
      "image/png": "[encoded data removed]",
      "text/plain": [
       "<matplotlib.figure.Figure at 0x121396e80>"
      ]
     },
     "metadata": {},
     "output_type": "display_data"
    }
   ],
   "source": [
    "plt.figure()\n",
    "plt.plot(df2[\"Win_VWP_Near\"][:train_size], linewidth = 0.75, color = \"darkblue\")\n",
    "plt.plot(df2[\"Win_VWP_Near\"][train_size:-test_size], linewidth = 0.75, color = \"darkgreen\")\n",
    "plt.plot(df2[\"Win_VWP_Near\"][-test_size:], linewidth = 0.75, color = \"darkred\")\n",
    "plt.legend(('Train', 'Validation', 'Test'), frameon = True, framealpha = 1)\n",
    "plt.ylabel(\"VWP (€)\")\n",
    "plt.savefig(\"dataset_split.pdf\")\n",
    "plt.show()"
   ]
  },
  {
   "cell_type": "markdown",
   "metadata": {},
   "source": [
    "## Common sense baselines: Validation\n",
    "Mean Absolute Error (MAE) on the validation data for an apples-to-apples comparison. \n",
    "\n",
    "First, unstandardize the dataset:"
   ]
  },
  {
   "cell_type": "code",
   "execution_count": 7,
   "metadata": {},
   "outputs": [],
   "source": [
    "df2n_unstd = np.copy(df2n)\n",
    "\n",
    "df2n_unstd *= stdevs\n",
    "df2n_unstd += means\n",
    "\n",
    "targets = df2n_unstd[train_size:-test_size, headers.index(\"Win_VWP_Near\")]"
   ]
  },
  {
   "cell_type": "markdown",
   "metadata": {},
   "source": [
    "#### Predicting mean VWP from training set"
   ]
  },
  {
   "cell_type": "code",
   "execution_count": 8,
   "metadata": {},
   "outputs": [
    {
     "name": "stdout",
     "output_type": "stream",
     "text": [
      "MAE  € 9.00181\n",
      "RMSE € 12.60574\n"
     ]
    }
   ],
   "source": [
    "print(\"MAE  €\", round(np.mean(np.abs(targets - means[0])), 5))\n",
    "print(\"RMSE €\", round(np.sqrt(np.mean(np.square(targets - means[0]))), 5))"
   ]
  },
  {
   "cell_type": "markdown",
   "metadata": {},
   "source": [
    "#### Predicting system price of corresponding DeliveryHour"
   ]
  },
  {
   "cell_type": "code",
   "execution_count": 9,
   "metadata": {},
   "outputs": [
    {
     "name": "stdout",
     "output_type": "stream",
     "text": [
      "MAE  € 4.14593\n",
      "RMSE € 7.53903\n"
     ]
    }
   ],
   "source": [
    "preds = df2n_unstd[train_size:-test_size, headers.index(\"Spot_PR_SP1\")]\n",
    "print(\"MAE  €\", round(np.mean(np.abs(targets - preds)), 5))\n",
    "print(\"RMSE €\", round(np.sqrt(np.mean(np.square(targets - preds))), 5))"
   ]
  },
  {
   "cell_type": "markdown",
   "metadata": {},
   "source": [
    "#### Predicting 6-hour lagged VWP (DeliveryHour 6 hours prior)\n",
    "Assumed to represent the latest available information at the time of prediction."
   ]
  },
  {
   "cell_type": "code",
   "execution_count": 10,
   "metadata": {},
   "outputs": [
    {
     "name": "stdout",
     "output_type": "stream",
     "text": [
      "MAE  € 7.25657\n",
      "RMSE € 12.27183\n"
     ]
    }
   ],
   "source": [
    "preds = df2n_unstd[(train_size-6):-(test_size+6), headers.index(\"Win_VWP_Near\")]\n",
    "print(\"MAE  €\", round(np.mean(np.abs(targets - preds)), 5))\n",
    "print(\"RMSE €\", round(np.sqrt(np.mean(np.square(targets - preds))), 5))"
   ]
  },
  {
   "cell_type": "markdown",
   "metadata": {},
   "source": [
    "#### Predicting VWP of corresponding DeliveryHour of previous day"
   ]
  },
  {
   "cell_type": "code",
   "execution_count": 11,
   "metadata": {},
   "outputs": [
    {
     "name": "stdout",
     "output_type": "stream",
     "text": [
      "MAE  € 5.31672\n",
      "RMSE € 10.19886\n"
     ]
    }
   ],
   "source": [
    "preds = df2n_unstd[(train_size-24):-(test_size+24), headers.index(\"Win_VWP_Near\")]\n",
    "print(\"MAE  €\", round(np.mean(np.abs(targets - preds)), 5))\n",
    "print(\"RMSE €\", round(np.sqrt(np.mean(np.square(targets - preds))), 5))"
   ]
  },
  {
   "cell_type": "markdown",
   "metadata": {},
   "source": [
    "#### Predicting SE3 price of corresponding DeliveryHour"
   ]
  },
  {
   "cell_type": "code",
   "execution_count": 12,
   "metadata": {},
   "outputs": [
    {
     "name": "stdout",
     "output_type": "stream",
     "text": [
      "MAE  € 2.95553\n",
      "RMSE € 5.93879\n"
     ]
    }
   ],
   "source": [
    "preds = df2n_unstd[train_size:-test_size, headers.index(\"Spot_PR_SE3\")]\n",
    "print(\"MAE  €\", round(np.mean(np.abs(targets - preds)), 5))\n",
    "print(\"RMSE €\", round(np.sqrt(np.mean(np.square(targets - preds))), 5))"
   ]
  },
  {
   "cell_type": "markdown",
   "metadata": {},
   "source": [
    "#### Predicting \"far\" VWP of corresponding DeliveryHour"
   ]
  },
  {
   "cell_type": "code",
   "execution_count": 13,
   "metadata": {},
   "outputs": [
    {
     "name": "stdout",
     "output_type": "stream",
     "text": [
      "MAE  € 4.80941\n",
      "RMSE € 7.58732\n"
     ]
    }
   ],
   "source": [
    "preds = df2n_unstd[train_size:-test_size, headers.index(\"Win_VWP_Far\")]\n",
    "print(\"MAE  €\", round(np.mean(np.abs(targets - preds)), 5))\n",
    "print(\"RMSE €\", round(np.sqrt(np.mean(np.square(targets - preds))), 5))"
   ]
  },
  {
   "cell_type": "markdown",
   "metadata": {},
   "source": [
    "## Common sense baselines: Test\n",
    "Mean Absolute Error (MAE) on the test data for an apples-to-apples comparison of final model performance estimates. \n",
    "\n",
    "First, unstandardize the dataset:"
   ]
  },
  {
   "cell_type": "code",
   "execution_count": 16,
   "metadata": {},
   "outputs": [],
   "source": [
    "targets = df2n_unstd[-test_size:, headers.index(\"Win_VWP_Near\")]"
   ]
  },
  {
   "cell_type": "markdown",
   "metadata": {},
   "source": [
    "#### Predicting mean VWP from training set"
   ]
  },
  {
   "cell_type": "code",
   "execution_count": 17,
   "metadata": {},
   "outputs": [
    {
     "name": "stdout",
     "output_type": "stream",
     "text": [
      "MAE  € 6.68287\n",
      "RMSE € 9.26446\n"
     ]
    }
   ],
   "source": [
    "print(\"MAE  €\", round(np.mean(np.abs(targets - means[0])), 5))\n",
    "print(\"RMSE €\", round(np.sqrt(np.mean(np.square(targets - means[0]))), 5))"
   ]
  },
  {
   "cell_type": "markdown",
   "metadata": {},
   "source": [
    "#### Predicting system price of corresponding DeliveryHour"
   ]
  },
  {
   "cell_type": "code",
   "execution_count": 18,
   "metadata": {},
   "outputs": [
    {
     "name": "stdout",
     "output_type": "stream",
     "text": [
      "MAE  € 4.46757\n",
      "RMSE € 7.0356\n"
     ]
    }
   ],
   "source": [
    "preds = df2n_unstd[-test_size:, headers.index(\"Spot_PR_SP1\")]\n",
    "print(\"MAE  €\", round(np.mean(np.abs(targets - preds)), 5))\n",
    "print(\"RMSE €\", round(np.sqrt(np.mean(np.square(targets - preds))), 5))"
   ]
  },
  {
   "cell_type": "markdown",
   "metadata": {},
   "source": [
    "#### Predicting 6-hour lagged VWP (DeliveryHour 6 hours prior)\n",
    "Assumed to represent the latest available information at the time of prediction."
   ]
  },
  {
   "cell_type": "code",
   "execution_count": 19,
   "metadata": {},
   "outputs": [
    {
     "name": "stdout",
     "output_type": "stream",
     "text": [
      "MAE  € 7.16691\n",
      "RMSE € 10.27575\n"
     ]
    }
   ],
   "source": [
    "preds = df2n_unstd[-test_size-6:-6, headers.index(\"Win_VWP_Near\")]\n",
    "print(\"MAE  €\", round(np.mean(np.abs(targets - preds)), 5))\n",
    "print(\"RMSE €\", round(np.sqrt(np.mean(np.square(targets - preds))), 5))"
   ]
  },
  {
   "cell_type": "markdown",
   "metadata": {},
   "source": [
    "#### Predicting VWP of corresponding DeliveryHour of previous day"
   ]
  },
  {
   "cell_type": "code",
   "execution_count": 20,
   "metadata": {},
   "outputs": [
    {
     "name": "stdout",
     "output_type": "stream",
     "text": [
      "MAE  € 6.02676\n",
      "RMSE € 9.02005\n"
     ]
    }
   ],
   "source": [
    "preds = df2n_unstd[-test_size-24:-24, headers.index(\"Win_VWP_Near\")]\n",
    "print(\"MAE  €\", round(np.mean(np.abs(targets - preds)), 5))\n",
    "print(\"RMSE €\", round(np.sqrt(np.mean(np.square(targets - preds))), 5))"
   ]
  },
  {
   "cell_type": "markdown",
   "metadata": {},
   "source": [
    "#### Predicting SE3 price of corresponding DeliveryHour"
   ]
  },
  {
   "cell_type": "code",
   "execution_count": 21,
   "metadata": {
    "scrolled": true
   },
   "outputs": [
    {
     "name": "stdout",
     "output_type": "stream",
     "text": [
      "MAE  € 3.42779\n",
      "RMSE € 5.64666\n"
     ]
    }
   ],
   "source": [
    "preds = df2n_unstd[-test_size:, headers.index(\"Spot_PR_SE3\")]\n",
    "print(\"MAE  €\", round(np.mean(np.abs(targets - preds)), 5))\n",
    "print(\"RMSE €\", round(np.sqrt(np.mean(np.square(targets - preds))), 5))"
   ]
  },
  {
   "cell_type": "markdown",
   "metadata": {},
   "source": [
    "#### Predicting \"far\" VWP of corresponding DeliveryHour"
   ]
  },
  {
   "cell_type": "code",
   "execution_count": 22,
   "metadata": {
    "scrolled": true
   },
   "outputs": [
    {
     "name": "stdout",
     "output_type": "stream",
     "text": [
      "MAE  € 4.00376\n",
      "RMSE € 6.20141\n"
     ]
    }
   ],
   "source": [
    "preds = df2n_unstd[-test_size:, headers.index(\"Win_VWP_Far\")]\n",
    "print(\"MAE  €\", round(np.mean(np.abs(targets - preds)), 5))\n",
    "print(\"RMSE €\", round(np.sqrt(np.mean(np.square(targets - preds))), 5))"
   ]
  }
 ],
 "metadata": {
  "kernelspec": {
   "display_name": "Python 3",
   "language": "python",
   "name": "python3"
  },
  "language_info": {
   "codemirror_mode": {
    "name": "ipython",
    "version": 3
   },
   "file_extension": ".py",
   "mimetype": "text/x-python",
   "name": "python",
   "nbconvert_exporter": "python",
   "pygments_lexer": "ipython3",
   "version": "3.7.1"
  }
 },
 "nbformat": 4,
 "nbformat_minor": 2
}
