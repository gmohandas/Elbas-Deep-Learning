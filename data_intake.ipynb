{
 "cells": [
  {
   "cell_type": "markdown",
   "metadata": {},
   "source": [
    "Load packages"
   ]
  },
  {
   "cell_type": "code",
   "execution_count": 2,
   "metadata": {},
   "outputs": [
    {
     "name": "stdout",
     "output_type": "stream",
     "text": [
      "2.1.4\n",
      "1.6.0\n",
      "0.22.0\n",
      "1.14.1\n"
     ]
    }
   ],
   "source": [
    "import keras\n",
    "print(keras.__version__)\n",
    "\n",
    "import tensorflow as tf\n",
    "print(tf.__version__)\n",
    "\n",
    "import pandas as pd\n",
    "print(pd.__version__)\n",
    "\n",
    "import numpy as np\n",
    "print(np.__version__)\n",
    "\n",
    "import matplotlib.pyplot as plt\n",
    "import seaborn as sns\n",
    "\n",
    "import pickle"
   ]
  },
  {
   "cell_type": "markdown",
   "metadata": {},
   "source": [
    "Pretty plotting"
   ]
  },
  {
   "cell_type": "code",
   "execution_count": 3,
   "metadata": {},
   "outputs": [],
   "source": [
    "# Use seaborn graphical settings, which are much prettier\n",
    "sns.set()\n",
    "# Scale widths, fonts, etc. to fit well in a paper (an alternative would be \"notebook\")\n",
    "sns.set_context('notebook')\n",
    "sns.set_style('whitegrid')"
   ]
  },
  {
   "cell_type": "markdown",
   "metadata": {},
   "source": [
    "Load data and print some summaries."
   ]
  },
  {
   "cell_type": "code",
   "execution_count": 4,
   "metadata": {},
   "outputs": [
    {
     "name": "stdout",
     "output_type": "stream",
     "text": [
      "float64    185\n",
      "int64       80\n",
      "dtype: int64\n",
      "(53400, 265)\n"
     ]
    },
    {
     "data": {
      "text/html": [
       "<div>\n",
       "<style scoped>\n",
       "    .dataframe tbody tr th:only-of-type {\n",
       "        vertical-align: middle;\n",
       "    }\n",
       "\n",
       "    .dataframe tbody tr th {\n",
       "        vertical-align: top;\n",
       "    }\n",
       "\n",
       "    .dataframe thead th {\n",
       "        text-align: right;\n",
       "    }\n",
       "</style>\n",
       "<table border=\"1\" class=\"dataframe\">\n",
       "  <thead>\n",
       "    <tr style=\"text-align: right;\">\n",
       "      <th></th>\n",
       "      <th>Win_VWP_Near</th>\n",
       "      <th>DeliveryHour</th>\n",
       "      <th>DeliveryMonth</th>\n",
       "      <th>DeliveryWeekday</th>\n",
       "      <th>Reg_DD_DK1</th>\n",
       "      <th>Reg_DD_DK2</th>\n",
       "      <th>Reg_DD_FI</th>\n",
       "      <th>Reg_DD_NO1</th>\n",
       "      <th>Reg_DD_NO2</th>\n",
       "      <th>Reg_DD_NO3</th>\n",
       "      <th>...</th>\n",
       "      <th>miss_Cap_DK1A_SE3</th>\n",
       "      <th>miss_Cap_SE3_DK1A</th>\n",
       "      <th>miss_Cap_DK1A_NO2</th>\n",
       "      <th>miss_Cap_NO2_DK1A</th>\n",
       "      <th>miss_Op_CE_SE1</th>\n",
       "      <th>miss_Op_CE_SE2</th>\n",
       "      <th>miss_Op_CE_SE3</th>\n",
       "      <th>miss_Op_CE_SE4</th>\n",
       "      <th>miss_Win_VWP_Near_Lag</th>\n",
       "      <th>miss_Win_Volume_Near_Lag</th>\n",
       "    </tr>\n",
       "    <tr>\n",
       "      <th>DeliveryTime</th>\n",
       "      <th></th>\n",
       "      <th></th>\n",
       "      <th></th>\n",
       "      <th></th>\n",
       "      <th></th>\n",
       "      <th></th>\n",
       "      <th></th>\n",
       "      <th></th>\n",
       "      <th></th>\n",
       "      <th></th>\n",
       "      <th></th>\n",
       "      <th></th>\n",
       "      <th></th>\n",
       "      <th></th>\n",
       "      <th></th>\n",
       "      <th></th>\n",
       "      <th></th>\n",
       "      <th></th>\n",
       "      <th></th>\n",
       "      <th></th>\n",
       "      <th></th>\n",
       "    </tr>\n",
       "  </thead>\n",
       "  <tbody>\n",
       "    <tr>\n",
       "      <th>2011-11-02 01:00:00</th>\n",
       "      <td>35.975</td>\n",
       "      <td>1</td>\n",
       "      <td>11</td>\n",
       "      <td>4</td>\n",
       "      <td>1</td>\n",
       "      <td>1</td>\n",
       "      <td>-1</td>\n",
       "      <td>0</td>\n",
       "      <td>0</td>\n",
       "      <td>0</td>\n",
       "      <td>...</td>\n",
       "      <td>1</td>\n",
       "      <td>1</td>\n",
       "      <td>0</td>\n",
       "      <td>0</td>\n",
       "      <td>1</td>\n",
       "      <td>1</td>\n",
       "      <td>0</td>\n",
       "      <td>0</td>\n",
       "      <td>0</td>\n",
       "      <td>0</td>\n",
       "    </tr>\n",
       "    <tr>\n",
       "      <th>2011-11-02 02:00:00</th>\n",
       "      <td>34.448</td>\n",
       "      <td>2</td>\n",
       "      <td>11</td>\n",
       "      <td>4</td>\n",
       "      <td>-1</td>\n",
       "      <td>1</td>\n",
       "      <td>-1</td>\n",
       "      <td>-1</td>\n",
       "      <td>-1</td>\n",
       "      <td>-1</td>\n",
       "      <td>...</td>\n",
       "      <td>1</td>\n",
       "      <td>1</td>\n",
       "      <td>0</td>\n",
       "      <td>0</td>\n",
       "      <td>1</td>\n",
       "      <td>1</td>\n",
       "      <td>0</td>\n",
       "      <td>0</td>\n",
       "      <td>0</td>\n",
       "      <td>0</td>\n",
       "    </tr>\n",
       "    <tr>\n",
       "      <th>2011-11-02 03:00:00</th>\n",
       "      <td>35.313</td>\n",
       "      <td>3</td>\n",
       "      <td>11</td>\n",
       "      <td>4</td>\n",
       "      <td>-1</td>\n",
       "      <td>0</td>\n",
       "      <td>-1</td>\n",
       "      <td>-1</td>\n",
       "      <td>-1</td>\n",
       "      <td>-1</td>\n",
       "      <td>...</td>\n",
       "      <td>1</td>\n",
       "      <td>1</td>\n",
       "      <td>0</td>\n",
       "      <td>0</td>\n",
       "      <td>1</td>\n",
       "      <td>1</td>\n",
       "      <td>0</td>\n",
       "      <td>0</td>\n",
       "      <td>0</td>\n",
       "      <td>0</td>\n",
       "    </tr>\n",
       "  </tbody>\n",
       "</table>\n",
       "<p>3 rows × 265 columns</p>\n",
       "</div>"
      ],
      "text/plain": [
       "                     Win_VWP_Near  DeliveryHour  DeliveryMonth  \\\n",
       "DeliveryTime                                                     \n",
       "2011-11-02 01:00:00        35.975             1             11   \n",
       "2011-11-02 02:00:00        34.448             2             11   \n",
       "2011-11-02 03:00:00        35.313             3             11   \n",
       "\n",
       "                     DeliveryWeekday  Reg_DD_DK1  Reg_DD_DK2  Reg_DD_FI  \\\n",
       "DeliveryTime                                                              \n",
       "2011-11-02 01:00:00                4           1           1         -1   \n",
       "2011-11-02 02:00:00                4          -1           1         -1   \n",
       "2011-11-02 03:00:00                4          -1           0         -1   \n",
       "\n",
       "                     Reg_DD_NO1  Reg_DD_NO2  Reg_DD_NO3  \\\n",
       "DeliveryTime                                              \n",
       "2011-11-02 01:00:00           0           0           0   \n",
       "2011-11-02 02:00:00          -1          -1          -1   \n",
       "2011-11-02 03:00:00          -1          -1          -1   \n",
       "\n",
       "                               ...             miss_Cap_DK1A_SE3  \\\n",
       "DeliveryTime                   ...                                 \n",
       "2011-11-02 01:00:00            ...                             1   \n",
       "2011-11-02 02:00:00            ...                             1   \n",
       "2011-11-02 03:00:00            ...                             1   \n",
       "\n",
       "                     miss_Cap_SE3_DK1A  miss_Cap_DK1A_NO2  miss_Cap_NO2_DK1A  \\\n",
       "DeliveryTime                                                                   \n",
       "2011-11-02 01:00:00                  1                  0                  0   \n",
       "2011-11-02 02:00:00                  1                  0                  0   \n",
       "2011-11-02 03:00:00                  1                  0                  0   \n",
       "\n",
       "                     miss_Op_CE_SE1  miss_Op_CE_SE2  miss_Op_CE_SE3  \\\n",
       "DeliveryTime                                                          \n",
       "2011-11-02 01:00:00               1               1               0   \n",
       "2011-11-02 02:00:00               1               1               0   \n",
       "2011-11-02 03:00:00               1               1               0   \n",
       "\n",
       "                     miss_Op_CE_SE4  miss_Win_VWP_Near_Lag  \\\n",
       "DeliveryTime                                                 \n",
       "2011-11-02 01:00:00               0                      0   \n",
       "2011-11-02 02:00:00               0                      0   \n",
       "2011-11-02 03:00:00               0                      0   \n",
       "\n",
       "                     miss_Win_Volume_Near_Lag  \n",
       "DeliveryTime                                   \n",
       "2011-11-02 01:00:00                         0  \n",
       "2011-11-02 02:00:00                         0  \n",
       "2011-11-02 03:00:00                         0  \n",
       "\n",
       "[3 rows x 265 columns]"
      ]
     },
     "execution_count": 4,
     "metadata": {},
     "output_type": "execute_result"
    }
   ],
   "source": [
    "import os\n",
    "data_dir = '/Users/johannes/OneDrive/Master Thesis - ML/03 - Programming/R/Data_Preparation/data_wide'\n",
    "fpath = os.path.join(data_dir, 'merged_wide.csv')\n",
    "\n",
    "df = pd.read_csv(fpath, sep = \",\", header = 0, index_col = 0, \n",
    "                 parse_dates = True, infer_datetime_format = True)\n",
    "\n",
    "headers = list(df)\n",
    "\n",
    "print(df.get_dtype_counts())\n",
    "print(df.shape)\n",
    "\n",
    "# Convert to numpy ndarray\n",
    "dfn = df.as_matrix()\n",
    "\n",
    "df.head(3)"
   ]
  },
  {
   "cell_type": "markdown",
   "metadata": {},
   "source": [
    "One-hot encode categorical.\n",
    "\n",
    "To do it via sklearn's OneHotEncoder, we first have to replace NaNs with some value (like -999). The function shits the bed since it runs a np.isfinite() on the whole dataset, which is false if any value is NaN or Inf. If so, have to replace -999 with NaN afterards.\n",
    "\n",
    "Alternatively can do it via pandas' get_dummies. \n",
    "\n",
    "The benefit of doing it via sklearn is the transformation can be reversed if we want to get back readable delivery date and time information - e.g. for plotting. The pandas approach, however, gives the resulting dummy columns easily readable names - such as DeliveryWeekday1 through 7."
   ]
  },
  {
   "cell_type": "code",
   "execution_count": null,
   "metadata": {},
   "outputs": [],
   "source": [
    "# BY FIRST REPLACING NaNs, THEN REVERTING\n",
    "from sklearn.preprocessing import OneHotEncoder\n",
    "\n",
    "# Change to [1,2,3] when DeliveryYear is dropped\n",
    "# One-hot-encode categorical variables\n",
    "enc = OneHotEncoder(categorical_features = [1, 2, 3, 4, 5, 6, 7, 8, \n",
    "                                            9, 10, 11, 12, 13, 14, 15], \n",
    "                    sparse = False)\n",
    "# Replace NaN with -999 and, fit the transformer, and return full sert\n",
    "onehoted = enc.fit_transform(df.fillna(-999))\n",
    "# Re-replace -999 with NaN since we need them as such when standardizing\n",
    "onehoted[onehoted == -999] = np.NaN\n",
    "\n",
    "print(onehoted.shape)"
   ]
  },
  {
   "cell_type": "markdown",
   "metadata": {},
   "source": [
    "One-hot-encode categorical features using pandas, then standardize numerical features (not including the one-hot-encoded indicator variables) so each numerical feature has mean 0 and standard deviation 1."
   ]
  },
  {
   "cell_type": "code",
   "execution_count": 5,
   "metadata": {},
   "outputs": [
    {
     "name": "stdout",
     "output_type": "stream",
     "text": [
      "NaNs imputed with 0's: 34364\n"
     ]
    }
   ],
   "source": [
    "# INSTEAD USING PANDAS DIRECTLY\n",
    "# One-hot-encode categoricals\n",
    "df2 = pd.get_dummies(df, columns = [\"DeliveryHour\", \"DeliveryMonth\", \"DeliveryWeekday\",\n",
    "                                   \"Reg_DD_DK1\", \"Reg_DD_DK2\", \"Reg_DD_FI\", \"Reg_DD_NO1\",\n",
    "                                   \"Reg_DD_NO2\", \"Reg_DD_NO3\", \"Reg_DD_NO4\", \"Reg_DD_NO5\",\n",
    "                                   \"Reg_DD_SE1\", \"Reg_DD_SE2\", \"Reg_DD_SE3\", \"Reg_DD_SE4\"])\n",
    "\n",
    "headers = list(df2)\n",
    "\n",
    "# Define dataset sizes\n",
    "## 1 year = 365*24 = 8,760\n",
    "valid_size = 8760\n",
    "test_size = 8760\n",
    "train_size = df2.shape[0] - valid_size - test_size\n",
    "\n",
    "# Convert pandas DataFrame to Numpy ndarray\n",
    "df2n = df2.as_matrix()\n",
    "\n",
    "# Last column to normalize\n",
    "## All columns to the right are binary missing-flags or one-hot-encoded, so don't standardize\n",
    "ind_last = list(df2).index('UMM_CE_Cnt')\n",
    "\n",
    "means_num = np.nanmean(df2n[:train_size, :ind_last], axis = 0)\n",
    "stdevs_num = np.nanstd(df2n[:train_size, :ind_last], axis = 0)\n",
    "    \n",
    "# Pad mean with 0's and st. dev. with 1's for indicators and one-hots\n",
    "## To avoid standardizing these variables\n",
    "means = np.concatenate([means_num, np.repeat(0, df2n.shape[1] - ind_last)])\n",
    "stdevs = np.concatenate([stdevs_num, np.repeat(1, df2n.shape[1] - ind_last)])\n",
    "\n",
    "# Standardize\n",
    "df2n -= means\n",
    "df2n /= stdevs\n",
    "\n",
    "# Replace NaNs with 0's\n",
    "print(\"NaNs imputed with 0's:\", np.isnan(df2n).sum())\n",
    "df2n = np.nan_to_num(df2n)\n",
    "\n",
    "df2n_train = df2n[:-(valid_size+test_size)]\n",
    "df2n_valid = df2n[-(valid_size+test_size):-test_size]\n",
    "df2n_test = df2n[-test_size:]\n",
    "\n",
    "# Save datasets to files so they can be imported elsewhere\n",
    "# fmt = '%1.5f' --> rounds to 5 decimals, but we want as high grain as possible\n",
    "np.savetxt('Data/standardized_complete.csv', df2n, delimiter = \",\", header = ','.join(headers), comments = '')\n",
    "np.savetxt('Data/standardized_train.csv', df2n_train, delimiter = \",\", header = ','.join(headers), comments = '')\n",
    "np.savetxt('Data/standardized_valid.csv', df2n_valid, delimiter = \",\", header = ','.join(headers), comments = '')\n",
    "np.savetxt('Data/standardized_test.csv', df2n_test, delimiter = \",\", header = ','.join(headers), comments = '')\n",
    "\n",
    "# Save helper data\n",
    "pickle.dump(means, open('Data/means', 'wb'))\n",
    "pickle.dump(stdevs, open('Data/stdevs', 'wb'))\n",
    "pickle.dump(headers, open('Data/headers', 'wb'))"
   ]
  },
  {
   "cell_type": "code",
   "execution_count": 6,
   "metadata": {},
   "outputs": [
    {
     "data": {
      "image/png": "[encoded data removed]",
      "text/plain": [
       "<matplotlib.figure.Figure at 0x121396e80>"
      ]
     },
     "metadata": {},
     "output_type": "display_data"
    }
   ],
   "source": [
    "plt.figure()\n",
    "plt.plot(df2[\"Win_VWP_Near\"][:train_size], linewidth = 0.75, color = \"darkblue\")\n",
    "plt.plot(df2[\"Win_VWP_Near\"][train_size:-test_size], linewidth = 0.75, color = \"darkgreen\")\n",
    "plt.plot(df2[\"Win_VWP_Near\"][-test_size:], linewidth = 0.75, color = \"darkred\")\n",
    "plt.legend(('Train', 'Validation', 'Test'), frameon = True, framealpha = 1)\n",
    "plt.ylabel(\"VWP (€)\")\n",
    "plt.savefig(\"dataset_split.pdf\")\n",
    "plt.show()"
   ]
  },
  {
   "cell_type": "markdown",
   "metadata": {},
   "source": [
    "## Common sense baselines: Validation\n",
    "Mean Absolute Error (MAE) on the validation data for an apples-to-apples comparison. \n",
    "\n",
    "First, unstandardize the dataset:"
   ]
  },
  {
   "cell_type": "code",
   "execution_count": 7,
   "metadata": {},
   "outputs": [],
   "source": [
    "df2n_unstd = np.copy(df2n)\n",
    "\n",
    "df2n_unstd *= stdevs\n",
    "df2n_unstd += means\n",
    "\n",
    "targets = df2n_unstd[train_size:-test_size, headers.index(\"Win_VWP_Near\")]"
   ]
  },
  {
   "cell_type": "markdown",
   "metadata": {},
   "source": [
    "#### Predicting mean VWP from training set"
   ]
  },
  {
   "cell_type": "code",
   "execution_count": 8,
   "metadata": {},
   "outputs": [
    {
     "name": "stdout",
     "output_type": "stream",
     "text": [
      "MAE  € 9.00181\n",
      "RMSE € 12.60574\n"
     ]
    }
   ],
   "source": [
    "print(\"MAE  €\", round(np.mean(np.abs(targets - means[0])), 5))\n",
    "print(\"RMSE €\", round(np.sqrt(np.mean(np.square(targets - means[0]))), 5))"
   ]
  },
  {
   "cell_type": "markdown",
   "metadata": {},
   "source": [
    "#### Predicting system price of corresponding DeliveryHour"
   ]
  },
  {
   "cell_type": "code",
   "execution_count": 9,
   "metadata": {},
   "outputs": [
    {
     "name": "stdout",
     "output_type": "stream",
     "text": [
      "MAE  € 4.14593\n",
      "RMSE € 7.53903\n"
     ]
    }
   ],
   "source": [
    "preds = df2n_unstd[train_size:-test_size, headers.index(\"Spot_PR_SP1\")]\n",
    "print(\"MAE  €\", round(np.mean(np.abs(targets - preds)), 5))\n",
    "print(\"RMSE €\", round(np.sqrt(np.mean(np.square(targets - preds))), 5))"
   ]
  },
  {
   "cell_type": "markdown",
   "metadata": {},
   "source": [
    "#### Predicting 6-hour lagged VWP (DeliveryHour 6 hours prior)\n",
    "Assumed to represent the latest available information at the time of prediction."
   ]
  },
  {
   "cell_type": "code",
   "execution_count": 10,
   "metadata": {},
   "outputs": [
    {
     "name": "stdout",
     "output_type": "stream",
     "text": [
      "MAE  € 7.25657\n",
      "RMSE € 12.27183\n"
     ]
    }
   ],
   "source": [
    "preds = df2n_unstd[(train_size-6):-(test_size+6), headers.index(\"Win_VWP_Near\")]\n",
    "print(\"MAE  €\", round(np.mean(np.abs(targets - preds)), 5))\n",
    "print(\"RMSE €\", round(np.sqrt(np.mean(np.square(targets - preds))), 5))"
   ]
  },
  {
   "cell_type": "markdown",
   "metadata": {},
   "source": [
    "#### Predicting VWP of corresponding DeliveryHour of previous day"
   ]
  },
  {
   "cell_type": "code",
   "execution_count": 11,
   "metadata": {},
   "outputs": [
    {
     "name": "stdout",
     "output_type": "stream",
     "text": [
      "MAE  € 5.31672\n",
      "RMSE € 10.19886\n"
     ]
    }
   ],
   "source": [
    "preds = df2n_unstd[(train_size-24):-(test_size+24), headers.index(\"Win_VWP_Near\")]\n",
    "print(\"MAE  €\", round(np.mean(np.abs(targets - preds)), 5))\n",
    "print(\"RMSE €\", round(np.sqrt(np.mean(np.square(targets - preds))), 5))"
   ]
  },
  {
   "cell_type": "markdown",
   "metadata": {},
   "source": [
    "#### Predicting SE3 price of corresponding DeliveryHour"
   ]
  },
  {
   "cell_type": "code",
   "execution_count": 12,
   "metadata": {},
   "outputs": [
    {
     "name": "stdout",
     "output_type": "stream",
     "text": [
      "MAE  € 2.95553\n",
      "RMSE € 5.93879\n"
     ]
    }
   ],
   "source": [
    "preds = df2n_unstd[train_size:-test_size, headers.index(\"Spot_PR_SE3\")]\n",
    "print(\"MAE  €\", round(np.mean(np.abs(targets - preds)), 5))\n",
    "print(\"RMSE €\", round(np.sqrt(np.mean(np.square(targets - preds))), 5))"
   ]
  },
  {
   "cell_type": "markdown",
   "metadata": {},
   "source": [
    "#### Predicting \"far\" VWP of corresponding DeliveryHour"
   ]
  },
  {
   "cell_type": "code",
   "execution_count": 13,
   "metadata": {},
   "outputs": [
    {
     "name": "stdout",
     "output_type": "stream",
     "text": [
      "MAE  € 4.80941\n",
      "RMSE € 7.58732\n"
     ]
    }
   ],
   "source": [
    "preds = df2n_unstd[train_size:-test_size, headers.index(\"Win_VWP_Far\")]\n",
    "print(\"MAE  €\", round(np.mean(np.abs(targets - preds)), 5))\n",
    "print(\"RMSE €\", round(np.sqrt(np.mean(np.square(targets - preds))), 5))"
   ]
  },
  {
   "cell_type": "markdown",
   "metadata": {},
   "source": [
    "## Common sense baselines: Test\n",
    "Mean Absolute Error (MAE) on the test data for an apples-to-apples comparison of final model performance estimates. \n",
    "\n",
    "First, unstandardize the dataset:"
   ]
  },
  {
   "cell_type": "code",
   "execution_count": 16,
   "metadata": {},
   "outputs": [],
   "source": [
    "targets = df2n_unstd[-test_size:, headers.index(\"Win_VWP_Near\")]"
   ]
  },
  {
   "cell_type": "markdown",
   "metadata": {},
   "source": [
    "#### Predicting mean VWP from training set"
   ]
  },
  {
   "cell_type": "code",
   "execution_count": 17,
   "metadata": {},
   "outputs": [
    {
     "name": "stdout",
     "output_type": "stream",
     "text": [
      "MAE  € 6.68287\n",
      "RMSE € 9.26446\n"
     ]
    }
   ],
   "source": [
    "print(\"MAE  €\", round(np.mean(np.abs(targets - means[0])), 5))\n",
    "print(\"RMSE €\", round(np.sqrt(np.mean(np.square(targets - means[0]))), 5))"
   ]
  },
  {
   "cell_type": "markdown",
   "metadata": {},
   "source": [
    "#### Predicting system price of corresponding DeliveryHour"
   ]
  },
  {
   "cell_type": "code",
   "execution_count": 18,
   "metadata": {},
   "outputs": [
    {
     "name": "stdout",
     "output_type": "stream",
     "text": [
      "MAE  € 4.46757\n",
      "RMSE € 7.0356\n"
     ]
    }
   ],
   "source": [
    "preds = df2n_unstd[-test_size:, headers.index(\"Spot_PR_SP1\")]\n",
    "print(\"MAE  €\", round(np.mean(np.abs(targets - preds)), 5))\n",
    "print(\"RMSE €\", round(np.sqrt(np.mean(np.square(targets - preds))), 5))"
   ]
  },
  {
   "cell_type": "markdown",
   "metadata": {},
   "source": [
    "#### Predicting 6-hour lagged VWP (DeliveryHour 6 hours prior)\n",
    "Assumed to represent the latest available information at the time of prediction."
   ]
  },
  {
   "cell_type": "code",
   "execution_count": 19,
   "metadata": {},
   "outputs": [
    {
     "name": "stdout",
     "output_type": "stream",
     "text": [
      "MAE  € 7.16691\n",
      "RMSE € 10.27575\n"
     ]
    }
   ],
   "source": [
    "preds = df2n_unstd[-test_size-6:-6, headers.index(\"Win_VWP_Near\")]\n",
    "print(\"MAE  €\", round(np.mean(np.abs(targets - preds)), 5))\n",
    "print(\"RMSE €\", round(np.sqrt(np.mean(np.square(targets - preds))), 5))"
   ]
  },
  {
   "cell_type": "markdown",
   "metadata": {},
   "source": [
    "#### Predicting VWP of corresponding DeliveryHour of previous day"
   ]
  },
  {
   "cell_type": "code",
   "execution_count": 20,
   "metadata": {},
   "outputs": [
    {
     "name": "stdout",
     "output_type": "stream",
     "text": [
      "MAE  € 6.02676\n",
      "RMSE € 9.02005\n"
     ]
    }
   ],
   "source": [
    "preds = df2n_unstd[-test_size-24:-24, headers.index(\"Win_VWP_Near\")]\n",
    "print(\"MAE  €\", round(np.mean(np.abs(targets - preds)), 5))\n",
    "print(\"RMSE €\", round(np.sqrt(np.mean(np.square(targets - preds))), 5))"
   ]
  },
  {
   "cell_type": "markdown",
   "metadata": {},
   "source": [
    "#### Predicting SE3 price of corresponding DeliveryHour"
   ]
  },
  {
   "cell_type": "code",
   "execution_count": 21,
   "metadata": {
    "scrolled": true
   },
   "outputs": [
    {
     "name": "stdout",
     "output_type": "stream",
     "text": [
      "MAE  € 3.42779\n",
      "RMSE € 5.64666\n"
     ]
    }
   ],
   "source": [
    "preds = df2n_unstd[-test_size:, headers.index(\"Spot_PR_SE3\")]\n",
    "print(\"MAE  €\", round(np.mean(np.abs(targets - preds)), 5))\n",
    "print(\"RMSE €\", round(np.sqrt(np.mean(np.square(targets - preds))), 5))"
   ]
  },
  {
   "cell_type": "markdown",
   "metadata": {},
   "source": [
    "#### Predicting \"far\" VWP of corresponding DeliveryHour"
   ]
  },
  {
   "cell_type": "code",
   "execution_count": 22,
   "metadata": {
    "scrolled": true
   },
   "outputs": [
    {
     "name": "stdout",
     "output_type": "stream",
     "text": [
      "MAE  € 4.00376\n",
      "RMSE € 6.20141\n"
     ]
    }
   ],
   "source": [
    "preds = df2n_unstd[-test_size:, headers.index(\"Win_VWP_Far\")]\n",
    "print(\"MAE  €\", round(np.mean(np.abs(targets - preds)), 5))\n",
    "print(\"RMSE €\", round(np.sqrt(np.mean(np.square(targets - preds))), 5))"
   ]
  },
  {
   "cell_type": "markdown",
   "metadata": {},
   "source": [
    "## Generator function\n",
    "#### Note: stored in Backend/timeseries.py so it can be easily imported elsewhere."
   ]
  },
  {
   "cell_type": "markdown",
   "metadata": {},
   "source": [
    "Now here is the data generator that we will use. It yields a tuple `(samples, targets)` where `samples` is one batch of input data and \n",
    "`targets` is the corresponding array of target temperatures. It takes the following arguments:\n",
    "\n",
    "* `data`: The original array of floating point data, which we just normalized in the code snippet above.\n",
    "* `lookback`: How many timesteps back should our input data go.\n",
    "* `delay`: How many timesteps in the future should our target be.\n",
    "* `min_index` and `max_index`: Indices in the `data` array that delimit which timesteps to draw from. This is useful for keeping a segment \n",
    "of the data for validation and another one for testing.\n",
    "* `shuffle`: Whether to shuffle our samples or draw them in chronological order.\n",
    "* `batch_size`: The number of samples per batch.\n",
    "* `step`: The period, in timesteps, at which we sample data. We will set it 6 in order to draw one data point every hour."
   ]
  },
  {
   "cell_type": "code",
   "execution_count": 9,
   "metadata": {},
   "outputs": [],
   "source": [
    "def generator(data, lookback, min_index, max_index, delay = 0,\n",
    "              shuffle=False, batch_size=128, step=1):\n",
    "    if max_index is None:\n",
    "        max_index = len(data) - delay\n",
    "    # + 1 since include row of inputs for which to predict\n",
    "    i = min_index + lookback + 1\n",
    "    # while true\n",
    "    while 1:\n",
    "        if shuffle:\n",
    "            # Pull batch_size random row indices between given index range\n",
    "            rows = np.random.randint(\n",
    "                min_index + lookback + 1, max_index, size=batch_size)\n",
    "            # No i-counter since shuffling, so can repeat same rows\n",
    "        else:\n",
    "            if i + batch_size >= max_index:\n",
    "                i = min_index + lookback + 1\n",
    "            # Define the row indices (observations) in batch\n",
    "            rows = np.arange(i, min(i + batch_size, max_index))\n",
    "            # Increment timeseries index counter\n",
    "            i += len(rows)\n",
    "\n",
    "        # Samples size = (batch_size, lookback_lags+1, num_features)\n",
    "        ## +1 since we include the last set of inputs, i.e. those for which we want to predict\n",
    "        samples = np.zeros((len(rows),\n",
    "                           lookback+1 // step,\n",
    "                           data.shape[-1]-1))\n",
    "        # Outputs size = (batch_size)\n",
    "        targets = np.zeros((len(rows),))\n",
    "        # Iterate over row in rows (= j in batch)\n",
    "        for j, row in enumerate(rows):\n",
    "            # Indices = index of row j - lookback, to that row, by step\n",
    "                # Gets row indices of lookback lags + \"current\" row j\n",
    "            indices = range(rows[j] - lookback, rows[j]+1, step)\n",
    "            # Get those ordered data observations\n",
    "            # Each sample in batch has shape: (lookbacks, features)\n",
    "            samples[j] = data[indices, 1:]\n",
    "            # Corresponding targets are output [1] of row j + delay (24h)\n",
    "                # In this case, outputs are in column [1]\n",
    "            targets[j] = data[rows[j] + delay][0]\n",
    "        # Sample shape: (batch_size, lookback_lags, num_features)\n",
    "        # Targets shape: (batch_size,)\n",
    "        yield samples, targets"
   ]
  },
  {
   "cell_type": "markdown",
   "metadata": {},
   "source": [
    "Use the abstract generator function to instantiate three generators: one each for training, validation, and test."
   ]
  },
  {
   "cell_type": "code",
   "execution_count": 10,
   "metadata": {},
   "outputs": [],
   "source": [
    "# Look back 7 days of data\n",
    "lookback = 7*24\n",
    "\n",
    "# How many samples to include per batch\n",
    "## Each sample is one row, lookback lags, and the output (delay = 0)\n",
    "batch_size = 128\n",
    "\n",
    "# Instantiate dataset generators\n",
    "## Train is shuffled since each generated sample contains the lookback preceding observations\n",
    "train_gen = generator(df2n,\n",
    "                      lookback=lookback,\n",
    "                      delay=0,\n",
    "                      min_index=0,\n",
    "                      max_index=train_size,\n",
    "                      shuffle=True,\n",
    "                      batch_size=batch_size)\n",
    "\n",
    "val_gen = generator(df2n,\n",
    "                    lookback=lookback,\n",
    "                    delay=0,\n",
    "                    min_index=train_size+1,\n",
    "                    max_index=train_size+valid_size,\n",
    "                    # shuffle=false by default\n",
    "                    batch_size=batch_size)\n",
    "\n",
    "test_gen = generator(df2n,\n",
    "                     lookback=lookback,\n",
    "                     delay=0,\n",
    "                     min_index=train_size+valid_size+1,\n",
    "                     max_index=None,\n",
    "                     # shuffle=false by default\n",
    "                     batch_size=batch_size)\n",
    "\n",
    "# Number of steps to draw from train_gen\n",
    "## It's shuffled, so train_steps iterations doesn't expose the full dataset\n",
    "## This is just a useful rule of thumb as the batch and train sizes vary\n",
    "train_steps = (train_size - lookback) // batch_size\n",
    "\n",
    "# This is how many steps to draw from `val_gen`\n",
    "# in order to see the whole validation set:\n",
    "val_steps = ((train_size+valid_size) - (train_size+1) - lookback) // batch_size\n",
    "\n",
    "# This is how many steps to draw from `test_gen`\n",
    "# in order to see the whole test set:\n",
    "test_steps = (len(df2n) - (train_size+valid_size+1) - lookback) // batch_size"
   ]
  },
  {
   "cell_type": "markdown",
   "metadata": {},
   "source": [
    "## Deeper GRU with dropout"
   ]
  },
  {
   "cell_type": "code",
   "execution_count": 30,
   "metadata": {},
   "outputs": [
    {
     "name": "stdout",
     "output_type": "stream",
     "text": [
      "Epoch 1/50\n",
      "279/279 [==============================] - 155s 555ms/step - loss: 0.3057 - val_loss: 0.2221\n",
      "Epoch 2/50\n",
      "279/279 [==============================] - 148s 532ms/step - loss: 0.2647 - val_loss: 0.2036\n",
      "Epoch 3/50\n",
      "279/279 [==============================] - 148s 532ms/step - loss: 0.2549 - val_loss: 0.2011\n",
      "Epoch 4/50\n",
      "279/279 [==============================] - 149s 533ms/step - loss: 0.2458 - val_loss: 0.1896\n",
      "Epoch 5/50\n",
      "279/279 [==============================] - 149s 533ms/step - loss: 0.2375 - val_loss: 0.1947\n",
      "Epoch 6/50\n",
      "279/279 [==============================] - 148s 532ms/step - loss: 0.2318 - val_loss: 0.2029\n",
      "Epoch 7/50\n",
      "279/279 [==============================] - 148s 532ms/step - loss: 0.2317 - val_loss: 0.2010\n",
      "Epoch 8/50\n",
      "279/279 [==============================] - 148s 532ms/step - loss: 0.2276 - val_loss: 0.2131\n",
      "Epoch 9/50\n",
      "279/279 [==============================] - 149s 534ms/step - loss: 0.2246 - val_loss: 0.1878\n",
      "Epoch 10/50\n",
      "279/279 [==============================] - 148s 531ms/step - loss: 0.2216 - val_loss: 0.1994\n",
      "Epoch 11/50\n",
      "279/279 [==============================] - 148s 532ms/step - loss: 0.2221 - val_loss: 0.2135\n",
      "Epoch 12/50\n",
      "279/279 [==============================] - 149s 533ms/step - loss: 0.2207 - val_loss: 0.2094\n",
      "Epoch 13/50\n",
      "279/279 [==============================] - 149s 533ms/step - loss: 0.2126 - val_loss: 0.1979\n",
      "Epoch 14/50\n",
      "279/279 [==============================] - 149s 532ms/step - loss: 0.2139 - val_loss: 0.1930\n",
      "Epoch 15/50\n",
      "279/279 [==============================] - 149s 533ms/step - loss: 0.2066 - val_loss: 0.2019\n",
      "Epoch 16/50\n",
      "279/279 [==============================] - 149s 534ms/step - loss: 0.2081 - val_loss: 0.2166\n",
      "Epoch 17/50\n",
      "279/279 [==============================] - 149s 534ms/step - loss: 0.2063 - val_loss: 0.1971\n",
      "Epoch 18/50\n",
      "279/279 [==============================] - 149s 534ms/step - loss: 0.2079 - val_loss: 0.1933\n",
      "Epoch 19/50\n",
      "279/279 [==============================] - 149s 534ms/step - loss: 0.2057 - val_loss: 0.2136\n",
      "Epoch 20/50\n",
      "279/279 [==============================] - 148s 531ms/step - loss: 0.2053 - val_loss: 0.1992\n",
      "Epoch 21/50\n",
      "279/279 [==============================] - 148s 532ms/step - loss: 0.2017 - val_loss: 0.2019\n",
      "Epoch 22/50\n",
      "279/279 [==============================] - 149s 533ms/step - loss: 0.1994 - val_loss: 0.2058\n",
      "Epoch 23/50\n",
      "279/279 [==============================] - 148s 531ms/step - loss: 0.1967 - val_loss: 0.2092\n",
      "Epoch 24/50\n",
      "279/279 [==============================] - 149s 533ms/step - loss: 0.1984 - val_loss: 0.1964\n",
      "Epoch 25/50\n",
      "279/279 [==============================] - 148s 531ms/step - loss: 0.1949 - val_loss: 0.1981\n",
      "Epoch 26/50\n",
      "279/279 [==============================] - 149s 533ms/step - loss: 0.1953 - val_loss: 0.2045\n",
      "Epoch 27/50\n",
      "279/279 [==============================] - 148s 531ms/step - loss: 0.1944 - val_loss: 0.2341\n",
      "Epoch 28/50\n",
      "279/279 [==============================] - 149s 532ms/step - loss: 0.1972 - val_loss: 0.2028\n",
      "Epoch 29/50\n",
      "279/279 [==============================] - 148s 531ms/step - loss: 0.1925 - val_loss: 0.2135\n",
      "Epoch 30/50\n",
      "279/279 [==============================] - 149s 534ms/step - loss: 0.1934 - val_loss: 0.2204\n",
      "Epoch 31/50\n",
      "279/279 [==============================] - 148s 531ms/step - loss: 0.1928 - val_loss: 0.2047\n",
      "Epoch 32/50\n",
      "279/279 [==============================] - 149s 532ms/step - loss: 0.1903 - val_loss: 0.2091\n",
      "Epoch 33/50\n",
      "279/279 [==============================] - 148s 532ms/step - loss: 0.1922 - val_loss: 0.2086\n",
      "Epoch 34/50\n",
      "279/279 [==============================] - 148s 531ms/step - loss: 0.1911 - val_loss: 0.2144\n",
      "Epoch 35/50\n",
      "279/279 [==============================] - 148s 531ms/step - loss: 0.1915 - val_loss: 0.2042\n",
      "Epoch 36/50\n",
      "279/279 [==============================] - 149s 533ms/step - loss: 0.1896 - val_loss: 0.2134\n",
      "Epoch 37/50\n",
      "279/279 [==============================] - 148s 532ms/step - loss: 0.1874 - val_loss: 0.2114\n",
      "Epoch 38/50\n",
      "279/279 [==============================] - 149s 533ms/step - loss: 0.1900 - val_loss: 0.2142\n",
      "Epoch 39/50\n",
      "279/279 [==============================] - 149s 534ms/step - loss: 0.1896 - val_loss: 0.2063\n",
      "Epoch 40/50\n",
      "279/279 [==============================] - 149s 533ms/step - loss: 0.1851 - val_loss: 0.2082\n",
      "Epoch 41/50\n",
      "279/279 [==============================] - 148s 532ms/step - loss: 0.1860 - val_loss: 0.1997\n",
      "Epoch 42/50\n",
      "279/279 [==============================] - 148s 531ms/step - loss: 0.1873 - val_loss: 0.2084\n",
      "Epoch 43/50\n",
      "279/279 [==============================] - 149s 536ms/step - loss: 0.1861 - val_loss: 0.2066\n",
      "Epoch 44/50\n",
      "279/279 [==============================] - 148s 532ms/step - loss: 0.1864 - val_loss: 0.2062\n",
      "Epoch 45/50\n",
      "279/279 [==============================] - 148s 530ms/step - loss: 0.1867 - val_loss: 0.2089\n",
      "Epoch 46/50\n",
      "279/279 [==============================] - 148s 532ms/step - loss: 0.1862 - val_loss: 0.2139\n",
      "Epoch 47/50\n",
      "279/279 [==============================] - 149s 533ms/step - loss: 0.1861 - val_loss: 0.2078\n",
      "Epoch 48/50\n",
      "279/279 [==============================] - 148s 531ms/step - loss: 0.1815 - val_loss: 0.2146\n",
      "Epoch 49/50\n",
      "279/279 [==============================] - 148s 531ms/step - loss: 0.1819 - val_loss: 0.2143\n",
      "Epoch 50/50\n",
      "279/279 [==============================] - 149s 533ms/step - loss: 0.1827 - val_loss: 0.2123\n"
     ]
    }
   ],
   "source": [
    "from keras.models import Sequential\n",
    "from keras import layers\n",
    "from keras.optimizers import RMSprop\n",
    "\n",
    "model_gru2 = Sequential()\n",
    "model_gru2.add(layers.GRU(64, \n",
    "                          dropout = 0.1,\n",
    "                          recurrent_dropout = 0.3,\n",
    "                          return_sequences = True,\n",
    "                          input_shape=(None, df2n.shape[-1]-1)))\n",
    "model_gru2.add(layers.GRU(128, \n",
    "                          dropout = 0.2,\n",
    "                          recurrent_dropout = 0.4,\n",
    "                          return_sequences = True))\n",
    "model_gru2.add(layers.GRU(32, \n",
    "                          dropout = 0.1,\n",
    "                          recurrent_dropout = 0.2,\n",
    "                          activation = 'relu'))\n",
    "model_gru2.add(layers.Dense(1))\n",
    "\n",
    "model_gru2.compile(optimizer=RMSprop(), loss='mae')\n",
    "history_gru2 = model_gru2.fit_generator(train_gen, \n",
    "                                   steps_per_epoch=train_steps, \n",
    "                                   epochs=50, \n",
    "                                   validation_data=val_gen, \n",
    "                                   validation_steps=val_steps)"
   ]
  },
  {
   "cell_type": "code",
   "execution_count": 31,
   "metadata": {},
   "outputs": [
    {
     "data": {
      "image/png": "[encoded data removed]",
      "text/plain": [
       "<matplotlib.figure.Figure at 0x1e6ddf8a6a0>"
      ]
     },
     "metadata": {},
     "output_type": "display_data"
    }
   ],
   "source": [
    "loss = history_gru2.history['loss']\n",
    "val_loss = history_gru2.history['val_loss']\n",
    "\n",
    "epochs = range(len(loss))\n",
    "\n",
    "plt.figure()\n",
    "plt.plot(epochs, loss, 'bo', label='Training loss')\n",
    "plt.plot(epochs, val_loss, 'b', label='Validation loss')\n",
    "plt.title('Training and validation loss')\n",
    "plt.legend()\n",
    "plt.show()"
   ]
  },
  {
   "cell_type": "markdown",
   "metadata": {},
   "source": [
    "## Manually calculating MAE\n",
    "model_fit_generator and model_evaluate_generator both seemingly reset the val_gen generator indexing, whereas model_predict_generator does not. As such, to make predictions starting at the beginning of the validation set (factoring in lookback window size etc.), we first have to re-initiate the generator to reset the indexing."
   ]
  },
  {
   "cell_type": "code",
   "execution_count": 46,
   "metadata": {},
   "outputs": [
    {
     "name": "stdout",
     "output_type": "stream",
     "text": [
      "Manual\n",
      "[-0.57831974 -0.7728707  -0.60111808 -0.57625412 -0.55345578]\n",
      "-0.288385518926\n",
      "\n",
      "Generator\n",
      "[-0.57831974 -0.7728707  -0.60111808 -0.57625412 -0.55345578]\n",
      "-0.288385518926\n",
      "\n",
      "Manual MAE:    0.212309941073\n",
      "Generator MAE: 0.212309940426\n"
     ]
    }
   ],
   "source": [
    "# Re-initiate generator\n",
    "## Every time predict_generator is called, the generator continues (is not reset!)\n",
    "val_gen = generator(df2n, lookback=lookback, min_index=train_size+1, max_index=train_size+valid_size)\n",
    "\n",
    "# Make predictions for the validation set using the (reset) generator\n",
    "predictions = model_gru2.predict_generator(val_gen, steps = val_steps)\n",
    "preds = np.reshape(predictions, (len(predictions),))\n",
    "\n",
    "# Getting target outputs manually from validation set\n",
    "## Have to +2 due to earlier indexing\n",
    "targets1 = df2n_valid[lookback+2:lookback+2+len(predictions), 0]\n",
    "print(\"Manual\")\n",
    "print(targets1[0:5])\n",
    "print(np.mean(targets1))\n",
    "\n",
    "# Getting target outputs via generator requires us to re-initiate the generator\n",
    "val_gen = generator(df2n, lookback=lookback, min_index=train_size+1, max_index=train_size+valid_size)\n",
    "targets2 = []\n",
    "for step in range(val_steps):\n",
    "    samples, targets = next(val_gen)\n",
    "    targets2.append(targets)\n",
    "targets2 = np.reshape(targets2, (len(predictions),))\n",
    "print(\"\\nGenerator\")\n",
    "print(targets2[0:5])\n",
    "print(np.mean(targets2))\n",
    "\n",
    "# Evaluate manually\n",
    "print(\"\\nManual MAE:   \", np.mean(np.abs(targets1 - preds)))\n",
    "\n",
    "# Evaluate model using generator\n",
    "## evaluate_generator resets the index, so no need to re-initiate\n",
    "print(\"Generator MAE:\", model_gru2.evaluate_generator(val_gen, steps = val_steps))"
   ]
  },
  {
   "cell_type": "markdown",
   "metadata": {},
   "source": [
    "Does multiplying the MAE of standardized values with the training output standard deviation yield the true € measure?\n",
    "\n",
    "In other words, is it equal to calculating the MAE of unscaled € predictions vs true values manually?"
   ]
  },
  {
   "cell_type": "code",
   "execution_count": 47,
   "metadata": {},
   "outputs": [
    {
     "name": "stdout",
     "output_type": "stream",
     "text": [
      "Un-standardizing model MAE: € 2.77512993285\n",
      "Un-standardizing model MAE: € 2.7751300093\n"
     ]
    }
   ],
   "source": [
    "print(\"Un-standardizing model MAE: €\", np.mean(np.abs(targets2 - preds))*stdevs[0])\n",
    "\n",
    "p_us = np.copy(preds)\n",
    "p_us *= stdevs[0]\n",
    "p_us += means[0]\n",
    "\n",
    "t_us2 = np.copy(targets2)\n",
    "t_us2 *= stdevs[0]\n",
    "t_us2 += means[0]\n",
    "\n",
    "print(\"Un-standardizing model MAE: €\", np.mean(np.abs(t_us2 - p_us)))"
   ]
  },
  {
   "cell_type": "markdown",
   "metadata": {},
   "source": [
    "## Some first plots of validation set performance"
   ]
  },
  {
   "cell_type": "code",
   "execution_count": 48,
   "metadata": {},
   "outputs": [
    {
     "data": {
      "image/png": "[encoded data removed]",
      "text/plain": [
       "<matplotlib.figure.Figure at 0x1e6dad1c358>"
      ]
     },
     "metadata": {},
     "output_type": "display_data"
    }
   ],
   "source": [
    "plt.figure()\n",
    "plt.plot(range(1000), targets1[:1000], c = 'red', label='Targets')\n",
    "plt.plot(range(1000), preds[:1000], c = 'blue', label='Predictions')\n",
    "plt.title('Predicted vs true VWP first 1,000 hours (stdized)')\n",
    "plt.legend()\n",
    "plt.show()"
   ]
  },
  {
   "cell_type": "code",
   "execution_count": 49,
   "metadata": {},
   "outputs": [
    {
     "data": {
      "image/png": "[encoded data removed]",
      "text/plain": [
       "<matplotlib.figure.Figure at 0x1e6da974a58>"
      ]
     },
     "metadata": {},
     "output_type": "display_data"
    }
   ],
   "source": [
    "plt.figure()\n",
    "plt.plot(range(1000), targets1[:1000], c = 'red', label='True VWP')\n",
    "plt.plot(range(1000), df2n_valid[lookback+2:lookback+2+len(predictions), headers.index(\"Spot_PR_SP1\")][:1000], c = 'green', label='System Price')\n",
    "plt.title('System Price vs true VWP first 1,000 hours (stdized)')\n",
    "plt.legend()\n",
    "plt.show()"
   ]
  },
  {
   "cell_type": "code",
   "execution_count": 50,
   "metadata": {},
   "outputs": [
    {
     "data": {
      "image/png": "[encoded data removed]",
      "text/plain": [
       "<matplotlib.figure.Figure at 0x1e6daa95c50>"
      ]
     },
     "metadata": {},
     "output_type": "display_data"
    }
   ],
   "source": [
    "plt.figure()\n",
    "plt.plot(range(1000), np.subtract(df2n_valid[lookback+2:lookback+2+len(predictions), headers.index(\"Spot_PR_SP1\")][:1000], targets1[:1000]), c = 'green', label='VWP - SystemPrice')\n",
    "plt.plot(range(1000), np.subtract(preds[:1000], targets1[:1000]), c = 'blue', label='VWP - Predicted')\n",
    "plt.title('DERP!')\n",
    "plt.legend()\n",
    "plt.show()"
   ]
  },
  {
   "cell_type": "code",
   "execution_count": 52,
   "metadata": {},
   "outputs": [
    {
     "data": {
      "image/png": "[encoded data removed]",
      "text/plain": [
       "<matplotlib.figure.Figure at 0x1e6db02c4a8>"
      ]
     },
     "metadata": {},
     "output_type": "display_data"
    }
   ],
   "source": [
    "plt.figure()\n",
    "plt.plot(range(len(preds)), np.add(targets1*stdevs[0], means[0]), c = 'orangered', label='True VWP')\n",
    "plt.plot(range(len(preds)), np.add(preds*stdevs[0], means[0]), c = 'mediumblue', label='Prediction')\n",
    "plt.title('Validation predicted vs actual (€)')\n",
    "plt.legend()\n",
    "plt.show()"
   ]
  },
  {
   "cell_type": "code",
   "execution_count": null,
   "metadata": {},
   "outputs": [],
   "source": []
  }
 ],
 "metadata": {
  "kernelspec": {
   "display_name": "Python 3",
   "language": "python",
   "name": "python3"
  },
  "language_info": {
   "codemirror_mode": {
    "name": "ipython",
    "version": 3
   },
   "file_extension": ".py",
   "mimetype": "text/x-python",
   "name": "python",
   "nbconvert_exporter": "python",
   "pygments_lexer": "ipython3",
   "version": "3.6.4"
  }
 },
 "nbformat": 4,
 "nbformat_minor": 2
}
